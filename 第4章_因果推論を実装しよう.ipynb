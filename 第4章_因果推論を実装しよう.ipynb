{
  "nbformat": 4,
  "nbformat_minor": 0,
  "metadata": {
    "colab": {
      "provenance": [],
      "include_colab_link": true
    },
    "kernelspec": {
      "name": "python3",
      "display_name": "Python 3"
    },
    "language_info": {
      "name": "python"
    }
  },
  "cells": [
    {
      "cell_type": "markdown",
      "metadata": {
        "id": "view-in-github",
        "colab_type": "text"
      },
      "source": [
        "<a href=\"https://colab.research.google.com/github/wakamatsuikuma/textMEMO_causal_analysis_by_python/blob/main/%E7%AC%AC4%E7%AB%A0_%E5%9B%A0%E6%9E%9C%E6%8E%A8%E8%AB%96%E3%82%92%E5%AE%9F%E8%A3%85%E3%81%97%E3%82%88%E3%81%86.ipynb\" target=\"_parent\"><img src=\"https://colab.research.google.com/assets/colab-badge.svg\" alt=\"Open In Colab\"/></a>"
      ]
    },
    {
      "cell_type": "markdown",
      "source": [
        "# メモ\n",
        "- 調整化公式：doオペレータで表した数式を、doオペレータ無しで表現する方法→これだけでは考慮すべき変数（共変量）がわからない\n",
        "- d分離する：適切に因果ダイアグラムの変数を無視し、さらに介入を実施して因果推論するために因果ダイアグラムを変更する操作(=共変量の推定)\n",
        "- 傾向スコアによる逆確率重み付法(IPTW)：原因変数を共変量でモデリングし、共変量という条件での原因変数の確率(ある属性における処置zである確率、傾向スコア)を算出。ATEを調整化公式で変形した数式に傾向スコアを代入し処置の推定効果を算出する。\n",
        "- DR法(Doubly Robust)：IPTWでは各サンプルにおいて反実仮想側の結果を無視しているので、結果変数を回帰モデルなどで推定して(=反実仮想における結果の推定)、ATEの算出に反実仮想での逆確率重み付の項を追加して、推定効果を算出する。"
      ],
      "metadata": {
        "id": "PdkjguKikXe2"
      }
    },
    {
      "cell_type": "markdown",
      "source": [
        "# 4-1 回帰分析による因果推論の実装"
      ],
      "metadata": {
        "id": "ZbMJPaf3vmiU"
      }
    },
    {
      "cell_type": "code",
      "source": [
        "from google.colab import drive\n",
        "drive.mount('/content/drive')"
      ],
      "metadata": {
        "colab": {
          "base_uri": "https://localhost:8080/"
        },
        "id": "0iE8tW6fuUGM",
        "outputId": "211c0f90-91ce-44c9-81c8-e406193834ed"
      },
      "execution_count": null,
      "outputs": [
        {
          "output_type": "stream",
          "name": "stdout",
          "text": [
            "Mounted at /content/drive\n"
          ]
        }
      ]
    },
    {
      "cell_type": "code",
      "source": [
        "import random\n",
        "import numpy as np\n",
        "\n",
        "# 乱数のシードを固定\n",
        "random.seed(1234)\n",
        "np.random.seed(1234)\n",
        "\n",
        "# Scipy 平均0、分散1に正規化(標準化)関数\n",
        "import scipy.stats\n",
        "\n",
        "# シグモイド関数をimport\n",
        "from scipy.special import expit\n",
        "\n",
        "# 標準正規分布の生成用\n",
        "from numpy.random import *\n",
        "\n",
        "# グラフの描画用\n",
        "import matplotlib.pyplot as plt\n",
        "%matplotlib inline\n",
        "\n",
        "# その他\n",
        "import pandas as pd"
      ],
      "metadata": {
        "id": "ncTy6b6ZwPMJ"
      },
      "execution_count": null,
      "outputs": []
    },
    {
      "cell_type": "markdown",
      "source": [
        "## 説明変数の生成"
      ],
      "metadata": {
        "id": "NdD2drW4v1lG"
      }
    },
    {
      "cell_type": "code",
      "execution_count": null,
      "metadata": {
        "id": "p-l50__hvUW1"
      },
      "outputs": [],
      "source": [
        "# データ数\n",
        "num_data = 200\n",
        "\n",
        "# 原因変数以外の説明変数の生成\n",
        "# 年齢\n",
        "x_1 = randint(15, 76, num_data) \n",
        "\n",
        "# 性別\n",
        "x_2 = randint(0, 2, num_data)\n"
      ]
    },
    {
      "cell_type": "code",
      "source": [
        "# 原因変数の生成\n",
        "# ノイズ(バイアス項)の生成\n",
        "e_z = randn(num_data)\n",
        "\n",
        "# シグモイド関数に入れる部分。テレビCMを見る可能性を確率変数(?、的なもの)として生成。(大きいほど見る確率は高くなる)\n",
        "z_base = x_1 + (1-x_2)*10 - 40 + 5*e_z\n",
        "\n",
        "# テレビCMを見る確率を計算 = シグモイド関数を計算\n",
        "z_prob = expit(0.1*z_base)\n",
        "\n",
        "# テレビCMを見たかどうかの変数（0は見ていない、1は見た）\n",
        "Z = np.array([])\n",
        "for i in range(num_data):\n",
        "  Z_i = np.random.choice(2, size=1, p=[1-z_prob[i], z_prob[i]])[0] # 0または1になる確率に対して、ランダムに選択している？\n",
        "  Z = np.append(Z, Z_i)"
      ],
      "metadata": {
        "id": "-B4hUEz9vygA"
      },
      "execution_count": null,
      "outputs": []
    },
    {
      "cell_type": "markdown",
      "source": [
        "## 目的変数の生成"
      ],
      "metadata": {
        "id": "I5slsQKv9ULn"
      }
    },
    {
      "cell_type": "code",
      "source": [
        "# ノイズ(バイアス項)の生成\n",
        "e_y = randn(num_data)\n",
        "\n",
        "# 各係数(=効果)も指定して生成。年齢が高いほど減少し、男性の方が増加し、テレビCMを見ていると増加する。\n",
        "Y = -x_1 + 30*x_2 + 10*Z + 80 + 10*e_y"
      ],
      "metadata": {
        "id": "h0AxWRyrvyil"
      },
      "execution_count": null,
      "outputs": []
    },
    {
      "cell_type": "markdown",
      "source": [
        "## テーブルを作成"
      ],
      "metadata": {
        "id": "sNTYMkC2-f1A"
      }
    },
    {
      "cell_type": "code",
      "source": [
        "df = pd.DataFrame({'年齢': x_1,\n",
        "                   '性別': x_2,\n",
        "                   'CMを見た': Z,\n",
        "                   '購入量': Y,\n",
        "                   })\n",
        "\n",
        "df.head()  # 先頭を表示"
      ],
      "metadata": {
        "colab": {
          "base_uri": "https://localhost:8080/",
          "height": 206
        },
        "id": "QekL6xyR-ahZ",
        "outputId": "6b905057-3ea4-49ac-ec42-17b07b2c06af"
      },
      "execution_count": null,
      "outputs": [
        {
          "output_type": "execute_result",
          "data": {
            "text/plain": [
              "   年齢  性別  CMを見た         購入量\n",
              "0  62   0    1.0   24.464285\n",
              "1  34   0    0.0   45.693411\n",
              "2  53   1    1.0   64.998281\n",
              "3  68   1    1.0   47.186898\n",
              "4  27   1    0.0  100.114260"
            ],
            "text/html": [
              "\n",
              "  <div id=\"df-eeeb9af7-b6f8-4a50-b2db-d83e5e4a7aee\">\n",
              "    <div class=\"colab-df-container\">\n",
              "      <div>\n",
              "<style scoped>\n",
              "    .dataframe tbody tr th:only-of-type {\n",
              "        vertical-align: middle;\n",
              "    }\n",
              "\n",
              "    .dataframe tbody tr th {\n",
              "        vertical-align: top;\n",
              "    }\n",
              "\n",
              "    .dataframe thead th {\n",
              "        text-align: right;\n",
              "    }\n",
              "</style>\n",
              "<table border=\"1\" class=\"dataframe\">\n",
              "  <thead>\n",
              "    <tr style=\"text-align: right;\">\n",
              "      <th></th>\n",
              "      <th>年齢</th>\n",
              "      <th>性別</th>\n",
              "      <th>CMを見た</th>\n",
              "      <th>購入量</th>\n",
              "    </tr>\n",
              "  </thead>\n",
              "  <tbody>\n",
              "    <tr>\n",
              "      <th>0</th>\n",
              "      <td>62</td>\n",
              "      <td>0</td>\n",
              "      <td>1.0</td>\n",
              "      <td>24.464285</td>\n",
              "    </tr>\n",
              "    <tr>\n",
              "      <th>1</th>\n",
              "      <td>34</td>\n",
              "      <td>0</td>\n",
              "      <td>0.0</td>\n",
              "      <td>45.693411</td>\n",
              "    </tr>\n",
              "    <tr>\n",
              "      <th>2</th>\n",
              "      <td>53</td>\n",
              "      <td>1</td>\n",
              "      <td>1.0</td>\n",
              "      <td>64.998281</td>\n",
              "    </tr>\n",
              "    <tr>\n",
              "      <th>3</th>\n",
              "      <td>68</td>\n",
              "      <td>1</td>\n",
              "      <td>1.0</td>\n",
              "      <td>47.186898</td>\n",
              "    </tr>\n",
              "    <tr>\n",
              "      <th>4</th>\n",
              "      <td>27</td>\n",
              "      <td>1</td>\n",
              "      <td>0.0</td>\n",
              "      <td>100.114260</td>\n",
              "    </tr>\n",
              "  </tbody>\n",
              "</table>\n",
              "</div>\n",
              "      <button class=\"colab-df-convert\" onclick=\"convertToInteractive('df-eeeb9af7-b6f8-4a50-b2db-d83e5e4a7aee')\"\n",
              "              title=\"Convert this dataframe to an interactive table.\"\n",
              "              style=\"display:none;\">\n",
              "        \n",
              "  <svg xmlns=\"http://www.w3.org/2000/svg\" height=\"24px\"viewBox=\"0 0 24 24\"\n",
              "       width=\"24px\">\n",
              "    <path d=\"M0 0h24v24H0V0z\" fill=\"none\"/>\n",
              "    <path d=\"M18.56 5.44l.94 2.06.94-2.06 2.06-.94-2.06-.94-.94-2.06-.94 2.06-2.06.94zm-11 1L8.5 8.5l.94-2.06 2.06-.94-2.06-.94L8.5 2.5l-.94 2.06-2.06.94zm10 10l.94 2.06.94-2.06 2.06-.94-2.06-.94-.94-2.06-.94 2.06-2.06.94z\"/><path d=\"M17.41 7.96l-1.37-1.37c-.4-.4-.92-.59-1.43-.59-.52 0-1.04.2-1.43.59L10.3 9.45l-7.72 7.72c-.78.78-.78 2.05 0 2.83L4 21.41c.39.39.9.59 1.41.59.51 0 1.02-.2 1.41-.59l7.78-7.78 2.81-2.81c.8-.78.8-2.07 0-2.86zM5.41 20L4 18.59l7.72-7.72 1.47 1.35L5.41 20z\"/>\n",
              "  </svg>\n",
              "      </button>\n",
              "      \n",
              "  <style>\n",
              "    .colab-df-container {\n",
              "      display:flex;\n",
              "      flex-wrap:wrap;\n",
              "      gap: 12px;\n",
              "    }\n",
              "\n",
              "    .colab-df-convert {\n",
              "      background-color: #E8F0FE;\n",
              "      border: none;\n",
              "      border-radius: 50%;\n",
              "      cursor: pointer;\n",
              "      display: none;\n",
              "      fill: #1967D2;\n",
              "      height: 32px;\n",
              "      padding: 0 0 0 0;\n",
              "      width: 32px;\n",
              "    }\n",
              "\n",
              "    .colab-df-convert:hover {\n",
              "      background-color: #E2EBFA;\n",
              "      box-shadow: 0px 1px 2px rgba(60, 64, 67, 0.3), 0px 1px 3px 1px rgba(60, 64, 67, 0.15);\n",
              "      fill: #174EA6;\n",
              "    }\n",
              "\n",
              "    [theme=dark] .colab-df-convert {\n",
              "      background-color: #3B4455;\n",
              "      fill: #D2E3FC;\n",
              "    }\n",
              "\n",
              "    [theme=dark] .colab-df-convert:hover {\n",
              "      background-color: #434B5C;\n",
              "      box-shadow: 0px 1px 3px 1px rgba(0, 0, 0, 0.15);\n",
              "      filter: drop-shadow(0px 1px 2px rgba(0, 0, 0, 0.3));\n",
              "      fill: #FFFFFF;\n",
              "    }\n",
              "  </style>\n",
              "\n",
              "      <script>\n",
              "        const buttonEl =\n",
              "          document.querySelector('#df-eeeb9af7-b6f8-4a50-b2db-d83e5e4a7aee button.colab-df-convert');\n",
              "        buttonEl.style.display =\n",
              "          google.colab.kernel.accessAllowed ? 'block' : 'none';\n",
              "\n",
              "        async function convertToInteractive(key) {\n",
              "          const element = document.querySelector('#df-eeeb9af7-b6f8-4a50-b2db-d83e5e4a7aee');\n",
              "          const dataTable =\n",
              "            await google.colab.kernel.invokeFunction('convertToInteractive',\n",
              "                                                     [key], {});\n",
              "          if (!dataTable) return;\n",
              "\n",
              "          const docLinkHtml = 'Like what you see? Visit the ' +\n",
              "            '<a target=\"_blank\" href=https://colab.research.google.com/notebooks/data_table.ipynb>data table notebook</a>'\n",
              "            + ' to learn more about interactive tables.';\n",
              "          element.innerHTML = '';\n",
              "          dataTable['output_type'] = 'display_data';\n",
              "          await google.colab.output.renderOutput(dataTable, element);\n",
              "          const docLink = document.createElement('div');\n",
              "          docLink.innerHTML = docLinkHtml;\n",
              "          element.appendChild(docLink);\n",
              "        }\n",
              "      </script>\n",
              "    </div>\n",
              "  </div>\n",
              "  "
            ]
          },
          "metadata": {},
          "execution_count": 7
        }
      ]
    },
    {
      "cell_type": "code",
      "source": [
        "# 平均値を比べる\n",
        "\n",
        "print(df[df[\"CMを見た\"] == 1.0].mean())\n",
        "print(\"--------\")\n",
        "print(df[df[\"CMを見た\"] == 0.0].mean())"
      ],
      "metadata": {
        "colab": {
          "base_uri": "https://localhost:8080/"
        },
        "id": "AjTSeShovyk7",
        "outputId": "593a7080-9cf3-41a2-a3da-d015dec27f43"
      },
      "execution_count": null,
      "outputs": [
        {
          "output_type": "stream",
          "name": "stdout",
          "text": [
            "年齢       55.836066\n",
            "性別        0.483607\n",
            "CMを見た     1.000000\n",
            "購入量      49.711478\n",
            "dtype: float64\n",
            "--------\n",
            "年齢       32.141026\n",
            "性別        0.692308\n",
            "CMを見た     0.000000\n",
            "購入量      68.827143\n",
            "dtype: float64\n"
          ]
        }
      ]
    },
    {
      "cell_type": "markdown",
      "source": [
        "## 分析を実施"
      ],
      "metadata": {
        "id": "2slkO0XiehG7"
      }
    },
    {
      "cell_type": "code",
      "source": [
        "# scikit-learnから線形回帰をimport\n",
        "# https://scikit-learn.org/stable/modules/generated/sklearn.linear_model.LinearRegression.html\n",
        "from sklearn.linear_model import LinearRegression\n",
        "\n",
        "# 説明変数\n",
        "X = df[[\"年齢\", \"性別\", \"CMを見た\"]]\n",
        "\n",
        "# 被説明変数（目的変数）\n",
        "y = df[\"購入量\"]\n",
        "\n",
        "# 回帰の実施\n",
        "reg = LinearRegression().fit(X, y)\n",
        "\n",
        "# 回帰した結果の係数を出力\n",
        "print(\"係数：\", reg.coef_)\n"
      ],
      "metadata": {
        "colab": {
          "base_uri": "https://localhost:8080/"
        },
        "id": "WbJFlrDmvyrN",
        "outputId": "97f1c0ce-3de4-46b0-fa32-ae88254dadb4"
      },
      "execution_count": null,
      "outputs": [
        {
          "output_type": "stream",
          "name": "stdout",
          "text": [
            "係数： [-0.95817951 32.70149412 10.41327647]\n"
          ]
        }
      ]
    },
    {
      "cell_type": "code",
      "source": [
        "# 以下でもいける\n",
        "model = LinearRegression()\n",
        "model.fit(X, y)\n",
        "model.coef_"
      ],
      "metadata": {
        "colab": {
          "base_uri": "https://localhost:8080/"
        },
        "id": "fU8Yrs3avytT",
        "outputId": "6cd2e35d-711f-4665-9a6e-a5055eb9d8ea"
      },
      "execution_count": null,
      "outputs": [
        {
          "output_type": "execute_result",
          "data": {
            "text/plain": [
              "array([-0.95817951, 32.70149412, 10.41327647])"
            ]
          },
          "metadata": {},
          "execution_count": 10
        }
      ]
    },
    {
      "cell_type": "code",
      "source": [],
      "metadata": {
        "id": "0DbZ7xgWvyvm"
      },
      "execution_count": null,
      "outputs": []
    },
    {
      "cell_type": "code",
      "source": [],
      "metadata": {
        "id": "34-RH1-Wvyxu"
      },
      "execution_count": null,
      "outputs": []
    },
    {
      "cell_type": "markdown",
      "source": [
        "# 4-2 傾向スコアを用いた逆確率重み付けほう(IPTW)の実装"
      ],
      "metadata": {
        "id": "SagDCRLCAxAl"
      }
    },
    {
      "cell_type": "code",
      "source": [
        "# 乱数のシードを設定\n",
        "import random\n",
        "import numpy as np\n",
        "\n",
        "np.random.seed(1234)\n",
        "random.seed(1234)\n",
        "\n",
        "# 使用するパッケージ（ライブラリと関数）を定義\n",
        "# 標準正規分布の生成用\n",
        "from numpy.random import *\n",
        "\n",
        "# グラフの描画用\n",
        "import matplotlib.pyplot as plt\n",
        "\n",
        "# SciPy 平均0、分散1に正規化（標準化）関数\n",
        "import scipy.stats\n",
        "\n",
        "# シグモイド関数をimport\n",
        "from scipy.special import expit\n",
        "\n",
        "# その他\n",
        "import pandas as pd"
      ],
      "metadata": {
        "id": "dfY_zwXJvy0D"
      },
      "execution_count": null,
      "outputs": []
    },
    {
      "cell_type": "markdown",
      "source": [
        "## 説明変数の生成"
      ],
      "metadata": {
        "id": "n1Kw-oiGc8Yd"
      }
    },
    {
      "cell_type": "code",
      "source": [
        "# データ数\n",
        "num_data = 200\n",
        "\n",
        "# 原因変数以外の説明変数の生成\n",
        "# 年齢\n",
        "x_1 = randint(15, 76, num_data) \n",
        "\n",
        "# 性別\n",
        "x_2 = randint(0, 2, num_data)"
      ],
      "metadata": {
        "id": "VYF6hraevy2a"
      },
      "execution_count": null,
      "outputs": []
    },
    {
      "cell_type": "code",
      "source": [
        "# 原因変数の生成\n",
        "# ノイズ(バイアス項)の生成\n",
        "e_z = randn(num_data)\n",
        "\n",
        "# シグモイド関数に入れる部分。テレビCMを見る可能性を確率変数(?)として生成。(大きいほど見る確率は高くなる)\n",
        "z_base = x_1 + (1-x_2)*10 - 40 + 5*e_z\n",
        "\n",
        "# テレビCMを見る確率を計算 = シグモイド関数を計算\n",
        "z_prob = expit(0.1*z_base)\n",
        "\n",
        "# テレビCMを見たかどうかの変数（0は見ていない、1は見た）\n",
        "Z = np.array([])\n",
        "for i in range(num_data):\n",
        "  Z_i = np.random.choice(2, size=1, p=[1-z_prob[i], z_prob[i]])[0] # 0または1になる確率に対して、ランダムに選択している？\n",
        "  Z = np.append(Z, Z_i)"
      ],
      "metadata": {
        "id": "gMhth5Iqvy4e"
      },
      "execution_count": null,
      "outputs": []
    },
    {
      "cell_type": "markdown",
      "source": [
        "## 目的変数の生成"
      ],
      "metadata": {
        "id": "8CVTdfeUdBUT"
      }
    },
    {
      "cell_type": "code",
      "source": [
        "# ノイズ(バイアス項)の生成\n",
        "e_y = randn(num_data)\n",
        "\n",
        "# 各係数(=効果)も指定して生成。年齢が高いほど減少し、男性の方が増加し、テレビCMを見ていると増加する。\n",
        "Y = -x_1 + 30*x_2 + 10*Z + 80 + 10*e_y"
      ],
      "metadata": {
        "id": "oOlClPUfvy_j"
      },
      "execution_count": null,
      "outputs": []
    },
    {
      "cell_type": "markdown",
      "source": [
        "## テーブルの生成"
      ],
      "metadata": {
        "id": "T3zRp_KedLwj"
      }
    },
    {
      "cell_type": "code",
      "source": [
        "df = pd.DataFrame({'年齢': x_1,\n",
        "                   '性別': x_2,\n",
        "                   'CMを見た': Z,\n",
        "                   '購入量': Y,\n",
        "                   })\n",
        "\n",
        "df.head()  # 先頭を表示"
      ],
      "metadata": {
        "colab": {
          "base_uri": "https://localhost:8080/",
          "height": 206
        },
        "id": "4HL_M2zWdK74",
        "outputId": "69335b43-77da-4bed-e64e-a93e33ac64f9"
      },
      "execution_count": null,
      "outputs": [
        {
          "output_type": "execute_result",
          "data": {
            "text/plain": [
              "   年齢  性別  CMを見た         購入量\n",
              "0  62   0    1.0   24.464285\n",
              "1  34   0    0.0   45.693411\n",
              "2  53   1    1.0   64.998281\n",
              "3  68   1    1.0   47.186898\n",
              "4  27   1    0.0  100.114260"
            ],
            "text/html": [
              "\n",
              "  <div id=\"df-de82ab56-dd05-4d77-8a11-1d8486ba81c8\">\n",
              "    <div class=\"colab-df-container\">\n",
              "      <div>\n",
              "<style scoped>\n",
              "    .dataframe tbody tr th:only-of-type {\n",
              "        vertical-align: middle;\n",
              "    }\n",
              "\n",
              "    .dataframe tbody tr th {\n",
              "        vertical-align: top;\n",
              "    }\n",
              "\n",
              "    .dataframe thead th {\n",
              "        text-align: right;\n",
              "    }\n",
              "</style>\n",
              "<table border=\"1\" class=\"dataframe\">\n",
              "  <thead>\n",
              "    <tr style=\"text-align: right;\">\n",
              "      <th></th>\n",
              "      <th>年齢</th>\n",
              "      <th>性別</th>\n",
              "      <th>CMを見た</th>\n",
              "      <th>購入量</th>\n",
              "    </tr>\n",
              "  </thead>\n",
              "  <tbody>\n",
              "    <tr>\n",
              "      <th>0</th>\n",
              "      <td>62</td>\n",
              "      <td>0</td>\n",
              "      <td>1.0</td>\n",
              "      <td>24.464285</td>\n",
              "    </tr>\n",
              "    <tr>\n",
              "      <th>1</th>\n",
              "      <td>34</td>\n",
              "      <td>0</td>\n",
              "      <td>0.0</td>\n",
              "      <td>45.693411</td>\n",
              "    </tr>\n",
              "    <tr>\n",
              "      <th>2</th>\n",
              "      <td>53</td>\n",
              "      <td>1</td>\n",
              "      <td>1.0</td>\n",
              "      <td>64.998281</td>\n",
              "    </tr>\n",
              "    <tr>\n",
              "      <th>3</th>\n",
              "      <td>68</td>\n",
              "      <td>1</td>\n",
              "      <td>1.0</td>\n",
              "      <td>47.186898</td>\n",
              "    </tr>\n",
              "    <tr>\n",
              "      <th>4</th>\n",
              "      <td>27</td>\n",
              "      <td>1</td>\n",
              "      <td>0.0</td>\n",
              "      <td>100.114260</td>\n",
              "    </tr>\n",
              "  </tbody>\n",
              "</table>\n",
              "</div>\n",
              "      <button class=\"colab-df-convert\" onclick=\"convertToInteractive('df-de82ab56-dd05-4d77-8a11-1d8486ba81c8')\"\n",
              "              title=\"Convert this dataframe to an interactive table.\"\n",
              "              style=\"display:none;\">\n",
              "        \n",
              "  <svg xmlns=\"http://www.w3.org/2000/svg\" height=\"24px\"viewBox=\"0 0 24 24\"\n",
              "       width=\"24px\">\n",
              "    <path d=\"M0 0h24v24H0V0z\" fill=\"none\"/>\n",
              "    <path d=\"M18.56 5.44l.94 2.06.94-2.06 2.06-.94-2.06-.94-.94-2.06-.94 2.06-2.06.94zm-11 1L8.5 8.5l.94-2.06 2.06-.94-2.06-.94L8.5 2.5l-.94 2.06-2.06.94zm10 10l.94 2.06.94-2.06 2.06-.94-2.06-.94-.94-2.06-.94 2.06-2.06.94z\"/><path d=\"M17.41 7.96l-1.37-1.37c-.4-.4-.92-.59-1.43-.59-.52 0-1.04.2-1.43.59L10.3 9.45l-7.72 7.72c-.78.78-.78 2.05 0 2.83L4 21.41c.39.39.9.59 1.41.59.51 0 1.02-.2 1.41-.59l7.78-7.78 2.81-2.81c.8-.78.8-2.07 0-2.86zM5.41 20L4 18.59l7.72-7.72 1.47 1.35L5.41 20z\"/>\n",
              "  </svg>\n",
              "      </button>\n",
              "      \n",
              "  <style>\n",
              "    .colab-df-container {\n",
              "      display:flex;\n",
              "      flex-wrap:wrap;\n",
              "      gap: 12px;\n",
              "    }\n",
              "\n",
              "    .colab-df-convert {\n",
              "      background-color: #E8F0FE;\n",
              "      border: none;\n",
              "      border-radius: 50%;\n",
              "      cursor: pointer;\n",
              "      display: none;\n",
              "      fill: #1967D2;\n",
              "      height: 32px;\n",
              "      padding: 0 0 0 0;\n",
              "      width: 32px;\n",
              "    }\n",
              "\n",
              "    .colab-df-convert:hover {\n",
              "      background-color: #E2EBFA;\n",
              "      box-shadow: 0px 1px 2px rgba(60, 64, 67, 0.3), 0px 1px 3px 1px rgba(60, 64, 67, 0.15);\n",
              "      fill: #174EA6;\n",
              "    }\n",
              "\n",
              "    [theme=dark] .colab-df-convert {\n",
              "      background-color: #3B4455;\n",
              "      fill: #D2E3FC;\n",
              "    }\n",
              "\n",
              "    [theme=dark] .colab-df-convert:hover {\n",
              "      background-color: #434B5C;\n",
              "      box-shadow: 0px 1px 3px 1px rgba(0, 0, 0, 0.15);\n",
              "      filter: drop-shadow(0px 1px 2px rgba(0, 0, 0, 0.3));\n",
              "      fill: #FFFFFF;\n",
              "    }\n",
              "  </style>\n",
              "\n",
              "      <script>\n",
              "        const buttonEl =\n",
              "          document.querySelector('#df-de82ab56-dd05-4d77-8a11-1d8486ba81c8 button.colab-df-convert');\n",
              "        buttonEl.style.display =\n",
              "          google.colab.kernel.accessAllowed ? 'block' : 'none';\n",
              "\n",
              "        async function convertToInteractive(key) {\n",
              "          const element = document.querySelector('#df-de82ab56-dd05-4d77-8a11-1d8486ba81c8');\n",
              "          const dataTable =\n",
              "            await google.colab.kernel.invokeFunction('convertToInteractive',\n",
              "                                                     [key], {});\n",
              "          if (!dataTable) return;\n",
              "\n",
              "          const docLinkHtml = 'Like what you see? Visit the ' +\n",
              "            '<a target=\"_blank\" href=https://colab.research.google.com/notebooks/data_table.ipynb>data table notebook</a>'\n",
              "            + ' to learn more about interactive tables.';\n",
              "          element.innerHTML = '';\n",
              "          dataTable['output_type'] = 'display_data';\n",
              "          await google.colab.output.renderOutput(dataTable, element);\n",
              "          const docLink = document.createElement('div');\n",
              "          docLink.innerHTML = docLinkHtml;\n",
              "          element.appendChild(docLink);\n",
              "        }\n",
              "      </script>\n",
              "    </div>\n",
              "  </div>\n",
              "  "
            ]
          },
          "metadata": {},
          "execution_count": 15
        }
      ]
    },
    {
      "cell_type": "code",
      "source": [
        "# 平均値を比べる\n",
        "\n",
        "print(df[df[\"CMを見た\"] == 1.0].mean())\n",
        "print(\"--------\")\n",
        "print(df[df[\"CMを見た\"] == 0.0].mean())"
      ],
      "metadata": {
        "colab": {
          "base_uri": "https://localhost:8080/"
        },
        "id": "2CPRUvE2dK-Q",
        "outputId": "17eaccdb-c111-4e34-ef47-8e6540f88062"
      },
      "execution_count": null,
      "outputs": [
        {
          "output_type": "stream",
          "name": "stdout",
          "text": [
            "年齢       55.836066\n",
            "性別        0.483607\n",
            "CMを見た     1.000000\n",
            "購入量      49.711478\n",
            "dtype: float64\n",
            "--------\n",
            "年齢       32.141026\n",
            "性別        0.692308\n",
            "CMを見た     0.000000\n",
            "購入量      68.827143\n",
            "dtype: float64\n"
          ]
        }
      ]
    },
    {
      "cell_type": "markdown",
      "source": [
        "## 分析を実施"
      ],
      "metadata": {
        "id": "J4n9aGKJe1e0"
      }
    },
    {
      "cell_type": "code",
      "source": [
        "# モデリング\n",
        "\n",
        "# scikit-learnからロジスティク回帰をimport\n",
        "# https://scikit-learn.org/stable/modules/generated/sklearn.linear_model.LogisticRegression.html\n",
        "from sklearn.linear_model import LogisticRegression\n",
        "\n",
        "# 傾向スコアを求める上では、原因変数を目的変数として分析を実施\n",
        "# 傾向スコア = 他の説明変数の値をとる上での、介入がある値(ここでは0 or 1)をとる確率　を求めているから！\n",
        "\n",
        "# 説明変数\n",
        "X = df[[\"年齢\", \"性別\"]]\n",
        "\n",
        "# 被説明変数（目的変数）\n",
        "Z = df[\"CMを見た\"]\n",
        "\n",
        "# 回帰の実施\n",
        "reg = LogisticRegression().fit(X,Z)\n",
        "\n",
        "# 回帰した結果の係数を出力\n",
        "print(\"係数beta：\", reg.coef_)\n",
        "print(\"係数alpha：\", reg.intercept_)"
      ],
      "metadata": {
        "colab": {
          "base_uri": "https://localhost:8080/"
        },
        "id": "4SzDXEFwerrO",
        "outputId": "906fd4d1-18a6-411c-a617-1e2bb9b13b48"
      },
      "execution_count": null,
      "outputs": [
        {
          "output_type": "stream",
          "name": "stdout",
          "text": [
            "係数beta： [[ 0.10562765 -1.38263933]]\n",
            "係数alpha： [-3.37146523]\n"
          ]
        }
      ]
    },
    {
      "cell_type": "code",
      "source": [
        "# 各人の傾向スコアを計算\n",
        "\n",
        "Z_pred = reg.predict_proba(X)\n",
        "print(Z_pred[0:5])  # 5人ほどの結果を見てみる\n",
        "print(\"----\")\n",
        "print(Z[0:5])  # 5人ほどの正解"
      ],
      "metadata": {
        "colab": {
          "base_uri": "https://localhost:8080/"
        },
        "id": "VCtUBCAOerum",
        "outputId": "d6442ed4-6e8d-43d3-cb5c-305191c93f9f"
      },
      "execution_count": null,
      "outputs": [
        {
          "output_type": "stream",
          "name": "stdout",
          "text": [
            "[[0.04002323 0.95997677]\n",
            " [0.44525168 0.55474832]\n",
            " [0.30065918 0.69934082]\n",
            " [0.08101946 0.91898054]\n",
            " [0.87013558 0.12986442]]\n",
            "----\n",
            "0    1.0\n",
            "1    0.0\n",
            "2    1.0\n",
            "3    1.0\n",
            "4    0.0\n",
            "Name: CMを見た, dtype: float64\n"
          ]
        }
      ]
    },
    {
      "cell_type": "code",
      "source": [
        "# 平均処置効果 ATEを計算\n",
        "\n",
        "ATE_i = Y / Z_pred[:, 1] * Z - Y / Z_pred[:, 0] * (1-Z)\n",
        "ATE = 1 / len(Y) * ATE_i.sum()\n",
        "print(\"推定したATE\", ATE)"
      ],
      "metadata": {
        "colab": {
          "base_uri": "https://localhost:8080/"
        },
        "id": "gDo0lSPwerz0",
        "outputId": "6457acfc-0d7d-4d7f-84d1-6ffa3652b491"
      },
      "execution_count": null,
      "outputs": [
        {
          "output_type": "stream",
          "name": "stdout",
          "text": [
            "推定したATE 8.847476810855458\n"
          ]
        }
      ]
    },
    {
      "cell_type": "markdown",
      "source": [
        "- num_data = 1000にすると10.03とかなり正確な値となった\n",
        "- モデル係数はそこまでだった"
      ],
      "metadata": {
        "id": "CdQ4WXs4jFYI"
      }
    },
    {
      "cell_type": "code",
      "source": [
        "ATE_i"
      ],
      "metadata": {
        "colab": {
          "base_uri": "https://localhost:8080/"
        },
        "id": "66QFTWCeer2b",
        "outputId": "28098759-077d-4aa2-a404-75609384e8fc"
      },
      "execution_count": null,
      "outputs": [
        {
          "output_type": "execute_result",
          "data": {
            "text/plain": [
              "0       25.484247\n",
              "1     -102.623783\n",
              "2       92.942211\n",
              "3       51.347004\n",
              "4     -115.055932\n",
              "          ...    \n",
              "195    -60.182748\n",
              "196   -125.865433\n",
              "197    -75.288617\n",
              "198     57.713402\n",
              "199    117.800952\n",
              "Name: CMを見た, Length: 200, dtype: float64"
            ]
          },
          "metadata": {},
          "execution_count": 20
        }
      ]
    },
    {
      "cell_type": "code",
      "source": [],
      "metadata": {
        "id": "cLG-7Y56er5A"
      },
      "execution_count": null,
      "outputs": []
    },
    {
      "cell_type": "code",
      "source": [],
      "metadata": {
        "id": "NUkf6gMWer7r"
      },
      "execution_count": null,
      "outputs": []
    },
    {
      "cell_type": "markdown",
      "source": [
        "# 4-3 Doubly Robust法(DR法)による因果推論の実装"
      ],
      "metadata": {
        "id": "lbXVBRr_jh_0"
      }
    },
    {
      "cell_type": "code",
      "source": [
        "# 乱数のシードを設定\n",
        "import random\n",
        "import numpy as np\n",
        "\n",
        "np.random.seed(1234)\n",
        "random.seed(1234)\n",
        "\n",
        "# 使用するパッケージ（ライブラリと関数）を定義\n",
        "# 標準正規分布の生成用\n",
        "from numpy.random import *\n",
        "\n",
        "# グラフの描画用\n",
        "import matplotlib.pyplot as plt\n",
        "\n",
        "# SciPy 平均0、分散1に正規化（標準化）関数\n",
        "import scipy.stats\n",
        "\n",
        "# シグモイド関数をimport\n",
        "from scipy.special import expit\n",
        "\n",
        "# その他\n",
        "import pandas as pd"
      ],
      "metadata": {
        "id": "_nONQa1_er-w"
      },
      "execution_count": null,
      "outputs": []
    },
    {
      "cell_type": "markdown",
      "source": [
        "## 説明変数の生成"
      ],
      "metadata": {
        "id": "xli_8T5sdeo3"
      }
    },
    {
      "cell_type": "code",
      "source": [
        "# データ数\n",
        "num_data = 200\n",
        "\n",
        "# 原因変数以外の説明変数の生成\n",
        "# 年齢\n",
        "x_1 = randint(15, 76, num_data) \n",
        "\n",
        "# 性別\n",
        "x_2 = randint(0, 2, num_data)"
      ],
      "metadata": {
        "id": "BCi1TpwFdeo4"
      },
      "execution_count": null,
      "outputs": []
    },
    {
      "cell_type": "code",
      "source": [
        "# 原因変数の生成\n",
        "# ノイズ(バイアス項)の生成\n",
        "e_z = randn(num_data)\n",
        "\n",
        "# シグモイド関数に入れる部分。テレビCMを見る可能性を確率変数(?)として生成。(大きいほど見る確率は高くなる)\n",
        "z_base = x_1 + (1-x_2)*10 - 40 + 5*e_z\n",
        "\n",
        "# テレビCMを見る確率を計算 = シグモイド関数を計算\n",
        "z_prob = expit(0.1*z_base)\n",
        "\n",
        "# テレビCMを見たかどうかの変数（0は見ていない、1は見た）\n",
        "Z = np.array([])\n",
        "for i in range(num_data):\n",
        "  Z_i = np.random.choice(2, size=1, p=[1-z_prob[i], z_prob[i]])[0] # 0または1になる確率に対して、ランダムに選択している？\n",
        "  Z = np.append(Z, Z_i)"
      ],
      "metadata": {
        "id": "U1idTIgjdeo5"
      },
      "execution_count": null,
      "outputs": []
    },
    {
      "cell_type": "markdown",
      "source": [
        "## 目的変数の生成"
      ],
      "metadata": {
        "id": "FSs-y2lkdeo5"
      }
    },
    {
      "cell_type": "code",
      "source": [
        "# ノイズ(バイアス項)の生成\n",
        "e_y = randn(num_data)\n",
        "\n",
        "# 各係数(=効果)も指定して生成。年齢が高いほど減少し、男性の方が増加し、テレビCMを見ていると増加する。\n",
        "Y = -x_1 + 30*x_2 + 10*Z + 80 + 10*e_y"
      ],
      "metadata": {
        "id": "2yQQZNlQdeo5"
      },
      "execution_count": null,
      "outputs": []
    },
    {
      "cell_type": "markdown",
      "source": [
        "## テーブルの生成"
      ],
      "metadata": {
        "id": "iFGdoY8Vdeo5"
      }
    },
    {
      "cell_type": "code",
      "source": [
        "df = pd.DataFrame({'年齢': x_1,\n",
        "                   '性別': x_2,\n",
        "                   'CMを見た': Z,\n",
        "                   '購入量': Y,\n",
        "                   })\n",
        "\n",
        "df.head()  # 先頭を表示"
      ],
      "metadata": {
        "colab": {
          "base_uri": "https://localhost:8080/",
          "height": 206
        },
        "outputId": "8e43317f-3658-44e6-853b-b5211bbc16e5",
        "id": "898DJuNRdeo5"
      },
      "execution_count": null,
      "outputs": [
        {
          "output_type": "execute_result",
          "data": {
            "text/plain": [
              "   年齢  性別  CMを見た         購入量\n",
              "0  62   0    1.0   24.464285\n",
              "1  34   0    0.0   45.693411\n",
              "2  53   1    1.0   64.998281\n",
              "3  68   1    1.0   47.186898\n",
              "4  27   1    0.0  100.114260"
            ],
            "text/html": [
              "\n",
              "  <div id=\"df-71b333dd-0e5e-44cd-a821-f9b2323e7e37\">\n",
              "    <div class=\"colab-df-container\">\n",
              "      <div>\n",
              "<style scoped>\n",
              "    .dataframe tbody tr th:only-of-type {\n",
              "        vertical-align: middle;\n",
              "    }\n",
              "\n",
              "    .dataframe tbody tr th {\n",
              "        vertical-align: top;\n",
              "    }\n",
              "\n",
              "    .dataframe thead th {\n",
              "        text-align: right;\n",
              "    }\n",
              "</style>\n",
              "<table border=\"1\" class=\"dataframe\">\n",
              "  <thead>\n",
              "    <tr style=\"text-align: right;\">\n",
              "      <th></th>\n",
              "      <th>年齢</th>\n",
              "      <th>性別</th>\n",
              "      <th>CMを見た</th>\n",
              "      <th>購入量</th>\n",
              "    </tr>\n",
              "  </thead>\n",
              "  <tbody>\n",
              "    <tr>\n",
              "      <th>0</th>\n",
              "      <td>62</td>\n",
              "      <td>0</td>\n",
              "      <td>1.0</td>\n",
              "      <td>24.464285</td>\n",
              "    </tr>\n",
              "    <tr>\n",
              "      <th>1</th>\n",
              "      <td>34</td>\n",
              "      <td>0</td>\n",
              "      <td>0.0</td>\n",
              "      <td>45.693411</td>\n",
              "    </tr>\n",
              "    <tr>\n",
              "      <th>2</th>\n",
              "      <td>53</td>\n",
              "      <td>1</td>\n",
              "      <td>1.0</td>\n",
              "      <td>64.998281</td>\n",
              "    </tr>\n",
              "    <tr>\n",
              "      <th>3</th>\n",
              "      <td>68</td>\n",
              "      <td>1</td>\n",
              "      <td>1.0</td>\n",
              "      <td>47.186898</td>\n",
              "    </tr>\n",
              "    <tr>\n",
              "      <th>4</th>\n",
              "      <td>27</td>\n",
              "      <td>1</td>\n",
              "      <td>0.0</td>\n",
              "      <td>100.114260</td>\n",
              "    </tr>\n",
              "  </tbody>\n",
              "</table>\n",
              "</div>\n",
              "      <button class=\"colab-df-convert\" onclick=\"convertToInteractive('df-71b333dd-0e5e-44cd-a821-f9b2323e7e37')\"\n",
              "              title=\"Convert this dataframe to an interactive table.\"\n",
              "              style=\"display:none;\">\n",
              "        \n",
              "  <svg xmlns=\"http://www.w3.org/2000/svg\" height=\"24px\"viewBox=\"0 0 24 24\"\n",
              "       width=\"24px\">\n",
              "    <path d=\"M0 0h24v24H0V0z\" fill=\"none\"/>\n",
              "    <path d=\"M18.56 5.44l.94 2.06.94-2.06 2.06-.94-2.06-.94-.94-2.06-.94 2.06-2.06.94zm-11 1L8.5 8.5l.94-2.06 2.06-.94-2.06-.94L8.5 2.5l-.94 2.06-2.06.94zm10 10l.94 2.06.94-2.06 2.06-.94-2.06-.94-.94-2.06-.94 2.06-2.06.94z\"/><path d=\"M17.41 7.96l-1.37-1.37c-.4-.4-.92-.59-1.43-.59-.52 0-1.04.2-1.43.59L10.3 9.45l-7.72 7.72c-.78.78-.78 2.05 0 2.83L4 21.41c.39.39.9.59 1.41.59.51 0 1.02-.2 1.41-.59l7.78-7.78 2.81-2.81c.8-.78.8-2.07 0-2.86zM5.41 20L4 18.59l7.72-7.72 1.47 1.35L5.41 20z\"/>\n",
              "  </svg>\n",
              "      </button>\n",
              "      \n",
              "  <style>\n",
              "    .colab-df-container {\n",
              "      display:flex;\n",
              "      flex-wrap:wrap;\n",
              "      gap: 12px;\n",
              "    }\n",
              "\n",
              "    .colab-df-convert {\n",
              "      background-color: #E8F0FE;\n",
              "      border: none;\n",
              "      border-radius: 50%;\n",
              "      cursor: pointer;\n",
              "      display: none;\n",
              "      fill: #1967D2;\n",
              "      height: 32px;\n",
              "      padding: 0 0 0 0;\n",
              "      width: 32px;\n",
              "    }\n",
              "\n",
              "    .colab-df-convert:hover {\n",
              "      background-color: #E2EBFA;\n",
              "      box-shadow: 0px 1px 2px rgba(60, 64, 67, 0.3), 0px 1px 3px 1px rgba(60, 64, 67, 0.15);\n",
              "      fill: #174EA6;\n",
              "    }\n",
              "\n",
              "    [theme=dark] .colab-df-convert {\n",
              "      background-color: #3B4455;\n",
              "      fill: #D2E3FC;\n",
              "    }\n",
              "\n",
              "    [theme=dark] .colab-df-convert:hover {\n",
              "      background-color: #434B5C;\n",
              "      box-shadow: 0px 1px 3px 1px rgba(0, 0, 0, 0.15);\n",
              "      filter: drop-shadow(0px 1px 2px rgba(0, 0, 0, 0.3));\n",
              "      fill: #FFFFFF;\n",
              "    }\n",
              "  </style>\n",
              "\n",
              "      <script>\n",
              "        const buttonEl =\n",
              "          document.querySelector('#df-71b333dd-0e5e-44cd-a821-f9b2323e7e37 button.colab-df-convert');\n",
              "        buttonEl.style.display =\n",
              "          google.colab.kernel.accessAllowed ? 'block' : 'none';\n",
              "\n",
              "        async function convertToInteractive(key) {\n",
              "          const element = document.querySelector('#df-71b333dd-0e5e-44cd-a821-f9b2323e7e37');\n",
              "          const dataTable =\n",
              "            await google.colab.kernel.invokeFunction('convertToInteractive',\n",
              "                                                     [key], {});\n",
              "          if (!dataTable) return;\n",
              "\n",
              "          const docLinkHtml = 'Like what you see? Visit the ' +\n",
              "            '<a target=\"_blank\" href=https://colab.research.google.com/notebooks/data_table.ipynb>data table notebook</a>'\n",
              "            + ' to learn more about interactive tables.';\n",
              "          element.innerHTML = '';\n",
              "          dataTable['output_type'] = 'display_data';\n",
              "          await google.colab.output.renderOutput(dataTable, element);\n",
              "          const docLink = document.createElement('div');\n",
              "          docLink.innerHTML = docLinkHtml;\n",
              "          element.appendChild(docLink);\n",
              "        }\n",
              "      </script>\n",
              "    </div>\n",
              "  </div>\n",
              "  "
            ]
          },
          "metadata": {},
          "execution_count": 25
        }
      ]
    },
    {
      "cell_type": "code",
      "source": [
        "# 平均値を比べる\n",
        "\n",
        "print(df[df[\"CMを見た\"] == 1.0].mean())\n",
        "print(\"--------\")\n",
        "print(df[df[\"CMを見た\"] == 0.0].mean())"
      ],
      "metadata": {
        "colab": {
          "base_uri": "https://localhost:8080/"
        },
        "outputId": "63f5af67-15e2-47d9-f5d2-94b62604cdf0",
        "id": "sgLF6aMkdeo6"
      },
      "execution_count": null,
      "outputs": [
        {
          "output_type": "stream",
          "name": "stdout",
          "text": [
            "年齢       55.836066\n",
            "性別        0.483607\n",
            "CMを見た     1.000000\n",
            "購入量      49.711478\n",
            "dtype: float64\n",
            "--------\n",
            "年齢       32.141026\n",
            "性別        0.692308\n",
            "CMを見た     0.000000\n",
            "購入量      68.827143\n",
            "dtype: float64\n"
          ]
        }
      ]
    },
    {
      "cell_type": "markdown",
      "source": [
        "## 分析の実施"
      ],
      "metadata": {
        "id": "LU4p-7YAdlLD"
      }
    },
    {
      "cell_type": "code",
      "source": [
        "# scikit-learnから線形回帰をimport\n",
        "# https://scikit-learn.org/stable/modules/generated/sklearn.linear_model.LinearRegression.html\n",
        "from sklearn.linear_model import LinearRegression\n",
        "\n",
        "# 説明変数\n",
        "X = df[[\"年齢\", \"性別\", \"CMを見た\"]]\n",
        "\n",
        "# 被説明変数（目的変数）\n",
        "y = df[\"購入量\"]\n",
        "\n",
        "# まずは回帰で、反実仮想の推定値にあたる購入量を予測する\n",
        "# 回帰のモデリング\n",
        "reg2 = LinearRegression().fit(X, y)\n",
        "\n",
        "# 介入Z=0(テレビCMを見ていない)の場合の購入量を予測\n",
        "X_0 = X.copy()\n",
        "X_0[\"CMを見た\"] = 0\n",
        "Y_0 = reg2.predict(X_0)\n",
        "\n",
        "# 介入Z=1(テレビCMを見た)の場合の購入量を予測\n",
        "X_1 = X.copy()\n",
        "X_1[\"CMを見た\"] = 1\n",
        "Y_1 = reg2.predict(X_1)"
      ],
      "metadata": {
        "id": "PwJ240A_esDb"
      },
      "execution_count": null,
      "outputs": []
    },
    {
      "cell_type": "code",
      "source": [
        "# scikit-learnからロジスティク回帰をimport\n",
        "# https://scikit-learn.org/stable/modules/generated/sklearn.linear_model.LogisticRegression.html\n",
        "from sklearn.linear_model import LogisticRegression\n",
        "\n",
        "# 傾向スコアを求める上では、原因変数を目的変数として分析を実施\n",
        "# 傾向スコア = 他の説明変数の値をとる上での、介入がある値(ここでは0 or 1)をとる確率を求めているから！\n",
        "\n",
        "# 説明変数\n",
        "X = df[[\"年齢\", \"性別\"]]\n",
        "\n",
        "# 被説明変数（目的変数）\n",
        "Z = df[\"CMを見た\"]\n",
        "\n",
        "# 回帰の実施\n",
        "reg = LogisticRegression().fit(X, Z)\n",
        "\n",
        "# 傾向スコアを求める\n",
        "Z_pre = reg.predict_proba(X)\n",
        "print(Z_pre[0:5])  # 5人ほどの結果を見てみる"
      ],
      "metadata": {
        "colab": {
          "base_uri": "https://localhost:8080/"
        },
        "id": "WZWGtzE1esGU",
        "outputId": "538f637b-94e3-492a-e370-7956a62c2742"
      },
      "execution_count": null,
      "outputs": [
        {
          "output_type": "stream",
          "name": "stdout",
          "text": [
            "[[0.04002323 0.95997677]\n",
            " [0.44525168 0.55474832]\n",
            " [0.30065918 0.69934082]\n",
            " [0.08101946 0.91898054]\n",
            " [0.87013558 0.12986442]]\n"
          ]
        }
      ]
    },
    {
      "cell_type": "code",
      "source": [
        "# do(Z=1)、do(Z=0)の項ともに、反実仮想の介入サンプルの推定量を活用するために足している感じ\n",
        "# 観察データにあるサンプルも一括で推定して、加えているのはよくわからん\n",
        "# → ATE_1_i, ATE_0_iのそれぞれを前半を観察結果、後半を反実仮想の出力と考えると、\n",
        "#    反実仮想側の観察結果で取得されている介入有りのサンプルは、1-Zで0にされている\n",
        "\n",
        "ATE_1_i = Y/Z_pre[:, 1]*Z + (1-Z/Z_pre[:, 1])*Y_1\n",
        "ATE_0_i = Y/Z_pre[:, 0]*(1-Z) + (1-(1-Z)/Z_pre[:, 0])*Y_0\n",
        "ATE = 1/len(Y)*(ATE_1_i-ATE_0_i).sum()\n",
        "print(\"推定したATE\", ATE)"
      ],
      "metadata": {
        "colab": {
          "base_uri": "https://localhost:8080/"
        },
        "id": "jxiPanYmesaY",
        "outputId": "8322005a-eeec-4e7a-9fae-bb495ec7dd6b"
      },
      "execution_count": null,
      "outputs": [
        {
          "output_type": "stream",
          "name": "stdout",
          "text": [
            "推定したATE 9.75277505424846\n"
          ]
        }
      ]
    },
    {
      "cell_type": "markdown",
      "source": [
        "- num_data=1000にしたら、実際の効果からより離れた"
      ],
      "metadata": {
        "id": "0J3TDPPKmAqh"
      }
    },
    {
      "cell_type": "code",
      "source": [],
      "metadata": {
        "id": "ICHv-On9dLBF"
      },
      "execution_count": null,
      "outputs": []
    },
    {
      "cell_type": "code",
      "source": [],
      "metadata": {
        "id": "F9FeBNGwdLDN"
      },
      "execution_count": null,
      "outputs": []
    }
  ]
}