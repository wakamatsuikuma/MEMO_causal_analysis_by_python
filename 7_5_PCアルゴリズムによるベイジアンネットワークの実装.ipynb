{
  "nbformat": 4,
  "nbformat_minor": 0,
  "metadata": {
    "colab": {
      "provenance": [],
      "authorship_tag": "ABX9TyP3MuTSQa676RCsTt2pA24d",
      "include_colab_link": true
    },
    "kernelspec": {
      "name": "python3",
      "display_name": "Python 3"
    },
    "language_info": {
      "name": "python"
    }
  },
  "cells": [
    {
      "cell_type": "markdown",
      "metadata": {
        "id": "view-in-github",
        "colab_type": "text"
      },
      "source": [
        "<a href=\"https://colab.research.google.com/github/wakamatsuikuma/MEMO_causal_analysis_by_python/blob/main/7_5_PC%E3%82%A2%E3%83%AB%E3%82%B4%E3%83%AA%E3%82%BA%E3%83%A0%E3%81%AB%E3%82%88%E3%82%8B%E3%83%99%E3%82%A4%E3%82%B8%E3%82%A2%E3%83%B3%E3%83%8D%E3%83%83%E3%83%88%E3%83%AF%E3%83%BC%E3%82%AF%E3%81%AE%E5%AE%9F%E8%A3%85.ipynb\" target=\"_parent\"><img src=\"https://colab.research.google.com/assets/colab-badge.svg\" alt=\"Open In Colab\"/></a>"
      ]
    },
    {
      "cell_type": "markdown",
      "source": [
        "# 概要\n",
        "## ベイジアンネットワークでの因果探索\n",
        "【因果探索に用いるベイジアンネットワークは大きく3タイプ】  \n",
        "1. スコアリングによる構造学習：さまざまなDAGに対してスコア(*1)を求め、最も指標値の良いDAGを選ぶ  \n",
        "    *1 観測データに対するネットワークの当てはまりの良さを示すスコア：AIC, BIC, MDL符号, BDe, BDeu, K2\n",
        "2. 条件付き独立性検定による構造学習：以下の流れで求める  \n",
        "    ① 変数間の独立性検定を各条件付きパターンで繰り返して、スケルトン構造を同定  \n",
        "    ② オリエンテーションルールで部分的に方向づけを繰り返してPDAG(Partially DAG)をつくる  \n",
        "    ③ ②を繰り返してDAGを推定  \n",
        "3. ハイブリッド型構造型学習：スコアリングと条件付き独立性検定を組み合わせたもの  \n",
        "    代表的な手法に、MMHCアルゴリズム(Max-Min Hill Climbing alcorithm)がある。  \n",
        "    \n",
        "今回は2を実装。  \n",
        "  \n",
        "## ベイジアンネットワークでの推論  \n",
        "ベイジアンネットワークをベースに未観測データの値を推論する手法は複数ある  \n",
        "  -> 今回は、変数消去アルゴリズム(*1)をライブラリで実装\n",
        "  \n",
        "  *1 確率分布を変形手法である周辺化を利用して変数を消去して推論  \n",
        "\n",
        "\n",
        "【コーディングのイメージ】  \n",
        "1. BaysianModel()=ベイジアンモデルに因果モデルを与える（変数(カラム)を指定。）\n",
        "2. BaysianModel().fit()で観測データを与える\n",
        "3. VariableElimination(BaysianModel()).query()に推論したい変数(=カラム)と観測できているデータ(カラム=変数とデータ)を与える  \n",
        "  -> 未観測変数の値を確率的に推定できる"
      ],
      "metadata": {
        "id": "J2C0rGy7I4j0"
      }
    },
    {
      "cell_type": "markdown",
      "source": [
        "フォローできていないところ  \n",
        "- 独立性の検定のカイ二乗以外の他手法\n",
        "- オリエンテーションルールの原理"
      ],
      "metadata": {
        "id": "2gbuDlgCUi0_"
      }
    },
    {
      "cell_type": "markdown",
      "source": [
        "# プログラム実行前の設定など"
      ],
      "metadata": {
        "id": "gZlSQYqIdHVg"
      }
    },
    {
      "cell_type": "code",
      "source": [
        "# 乱数のシードを設定\n",
        "import random\n",
        "import numpy as np\n",
        "\n",
        "np.random.seed(1234)\n",
        "random.seed(1234)"
      ],
      "metadata": {
        "id": "6ln9BAuDdFhk"
      },
      "execution_count": null,
      "outputs": []
    },
    {
      "cell_type": "code",
      "source": [
        "# 使用するパッケージ（ライブラリと関数）を定義\n",
        "# 標準正規分布の生成用\n",
        "from numpy.random import *\n",
        "\n",
        "# グラフの描画用\n",
        "import matplotlib.pyplot as plt\n",
        "\n",
        "# SciPy 平均0、分散1に正規化（標準化）関数\n",
        "import scipy.stats\n",
        "\n",
        "# シグモイド関数をimport\n",
        "from scipy.special import expit\n",
        "\n",
        "# その他\n",
        "import pandas as pd"
      ],
      "metadata": {
        "id": "ZwWX0JpXdFzx"
      },
      "execution_count": null,
      "outputs": []
    },
    {
      "cell_type": "code",
      "source": [],
      "metadata": {
        "id": "Ch1tJdmZdOCA"
      },
      "execution_count": null,
      "outputs": []
    },
    {
      "cell_type": "code",
      "source": [],
      "metadata": {
        "id": "VjtQ8IfidOEi"
      },
      "execution_count": null,
      "outputs": []
    },
    {
      "cell_type": "code",
      "source": [],
      "metadata": {
        "id": "gc0EwJOVdOG9"
      },
      "execution_count": null,
      "outputs": []
    },
    {
      "cell_type": "markdown",
      "source": [
        "# 上記②について：PCアルゴリズムによるベイジアンネットワーク探索の実装"
      ],
      "metadata": {
        "id": "YrNEwV6FL_A6"
      }
    },
    {
      "cell_type": "markdown",
      "source": [
        "## データの生成"
      ],
      "metadata": {
        "id": "IHnClSr7tiOS"
      }
    },
    {
      "cell_type": "markdown",
      "source": [
        "Z <- x -> Y  \n",
        "Z -> Y  \n",
        "Y -> Y3 <- Y2  \n",
        "Y3 -> Y4  \n",
        "の構造をもつデータを生成する"
      ],
      "metadata": {
        "id": "9ETxCp3yto8s"
      }
    },
    {
      "cell_type": "code",
      "source": [
        "# データ数\n",
        "num_data = 2000\n",
        "\n",
        "# x : 部下育成の熱心さ。-1から1の一様乱数\n",
        "x = np.random.uniform(low=-1, high=1, size=num_data)\n",
        "\n",
        "# Z : 上司が「上司向け：部下とのキャリア面談のポイント研修」に参加したかどうか\n",
        "e_z = randn(num_data)  # ノイズの生成\n",
        "# z_prob = expit(5.0*x+5*e_z) # シグモイド関数により受講するかどうかを熱心さに影響を受ける確率で表現(あくまで確率)\n",
        "z_prob = expit(6.0*x+5*e_z)\n",
        "Z = np.array([])\n",
        "for i in range(num_data):\n",
        "    Z_i = np.random.choice(2, size=1, p=[1-z_prob[i], z_prob[i]])[0] # \n",
        "    Z = np.append(Z, Z_i)\n",
        "\n",
        "# Y : 部下の面談の満足度\n",
        "# 研修の効果は熱心さで効果が変わってくるとする(介入効果の非線形性)\n",
        "t = np.zeros(num_data)\n",
        "for i in range(num_data):\n",
        "    if x[i] < 0:\n",
        "        t[i] = 0.5\n",
        "    elif x[i] >= 0 and x[i] < 0.5:\n",
        "        t[i] = 0.7\n",
        "    elif x[i] >= 0.5:\n",
        "        t[i] = 1.0\n",
        "e_y = randn(num_data)\n",
        "Y = 2.0 + t*Z + 0.3*x + 0.2*e_y\n",
        "\n",
        "# Y2 : 部下当人へのチームメンバジェの満足度1から5の5段階\n",
        "Y2 = np.random.choice([1.0, 2.0, 3.0, 4.0, 5.0],\n",
        "                      num_data, p=[0.1, 0.2, 0.3, 0.2, 0.2])\n",
        "\n",
        "# Y3 : 部下当人への仕事への満足度\n",
        "e_y3 = randn(num_data)\n",
        "Y3 = 5*Y + 2*Y2 + e_y3\n",
        "\n",
        "# Y4 : 部下当人の仕事のパフォーマンス\n",
        "e_y4 = randn(num_data)\n",
        "Y4 = 3*Y3 + 5 + 2*e_y4 \n"
      ],
      "metadata": {
        "id": "tjSHl2E1toKL"
      },
      "execution_count": null,
      "outputs": []
    },
    {
      "cell_type": "code",
      "source": [
        "# データテーブルとして作成\n",
        "df = pd.DataFrame({'x': x,\n",
        "                   'Z': Z,\n",
        "                   't': t,\n",
        "                   'Y': Y,\n",
        "                   'Y2': Y2,\n",
        "                   'Y3': Y3,\n",
        "                   'Y4': Y4,\n",
        "                   })\n",
        "\n",
        "df.head()  # 先頭を表示\n"
      ],
      "metadata": {
        "colab": {
          "base_uri": "https://localhost:8080/",
          "height": 206
        },
        "id": "s0AiB3K3thX4",
        "outputId": "85a9aa34-2b5f-4a9d-b00a-ef62e4790b46"
      },
      "execution_count": null,
      "outputs": [
        {
          "output_type": "execute_result",
          "data": {
            "text/plain": [
              "          x    Z    t         Y   Y2         Y3         Y4\n",
              "0 -0.616961  0.0  0.5  1.758937  2.0  12.666456  42.128242\n",
              "1  0.244218  1.0  0.7  2.956007  3.0  19.930087  64.707398\n",
              "2 -0.124545  0.0  0.5  2.434394  3.0  19.145587  64.210457\n",
              "3  0.570717  1.0  1.0  3.289929  3.0  22.070455  72.983015\n",
              "4  0.559952  1.0  1.0  3.750548  5.0  28.793678  89.958753"
            ],
            "text/html": [
              "\n",
              "  <div id=\"df-900ee88b-9ba4-481b-9382-e5cdff1a9891\">\n",
              "    <div class=\"colab-df-container\">\n",
              "      <div>\n",
              "<style scoped>\n",
              "    .dataframe tbody tr th:only-of-type {\n",
              "        vertical-align: middle;\n",
              "    }\n",
              "\n",
              "    .dataframe tbody tr th {\n",
              "        vertical-align: top;\n",
              "    }\n",
              "\n",
              "    .dataframe thead th {\n",
              "        text-align: right;\n",
              "    }\n",
              "</style>\n",
              "<table border=\"1\" class=\"dataframe\">\n",
              "  <thead>\n",
              "    <tr style=\"text-align: right;\">\n",
              "      <th></th>\n",
              "      <th>x</th>\n",
              "      <th>Z</th>\n",
              "      <th>t</th>\n",
              "      <th>Y</th>\n",
              "      <th>Y2</th>\n",
              "      <th>Y3</th>\n",
              "      <th>Y4</th>\n",
              "    </tr>\n",
              "  </thead>\n",
              "  <tbody>\n",
              "    <tr>\n",
              "      <th>0</th>\n",
              "      <td>-0.616961</td>\n",
              "      <td>0.0</td>\n",
              "      <td>0.5</td>\n",
              "      <td>1.758937</td>\n",
              "      <td>2.0</td>\n",
              "      <td>12.666456</td>\n",
              "      <td>42.128242</td>\n",
              "    </tr>\n",
              "    <tr>\n",
              "      <th>1</th>\n",
              "      <td>0.244218</td>\n",
              "      <td>1.0</td>\n",
              "      <td>0.7</td>\n",
              "      <td>2.956007</td>\n",
              "      <td>3.0</td>\n",
              "      <td>19.930087</td>\n",
              "      <td>64.707398</td>\n",
              "    </tr>\n",
              "    <tr>\n",
              "      <th>2</th>\n",
              "      <td>-0.124545</td>\n",
              "      <td>0.0</td>\n",
              "      <td>0.5</td>\n",
              "      <td>2.434394</td>\n",
              "      <td>3.0</td>\n",
              "      <td>19.145587</td>\n",
              "      <td>64.210457</td>\n",
              "    </tr>\n",
              "    <tr>\n",
              "      <th>3</th>\n",
              "      <td>0.570717</td>\n",
              "      <td>1.0</td>\n",
              "      <td>1.0</td>\n",
              "      <td>3.289929</td>\n",
              "      <td>3.0</td>\n",
              "      <td>22.070455</td>\n",
              "      <td>72.983015</td>\n",
              "    </tr>\n",
              "    <tr>\n",
              "      <th>4</th>\n",
              "      <td>0.559952</td>\n",
              "      <td>1.0</td>\n",
              "      <td>1.0</td>\n",
              "      <td>3.750548</td>\n",
              "      <td>5.0</td>\n",
              "      <td>28.793678</td>\n",
              "      <td>89.958753</td>\n",
              "    </tr>\n",
              "  </tbody>\n",
              "</table>\n",
              "</div>\n",
              "      <button class=\"colab-df-convert\" onclick=\"convertToInteractive('df-900ee88b-9ba4-481b-9382-e5cdff1a9891')\"\n",
              "              title=\"Convert this dataframe to an interactive table.\"\n",
              "              style=\"display:none;\">\n",
              "        \n",
              "  <svg xmlns=\"http://www.w3.org/2000/svg\" height=\"24px\"viewBox=\"0 0 24 24\"\n",
              "       width=\"24px\">\n",
              "    <path d=\"M0 0h24v24H0V0z\" fill=\"none\"/>\n",
              "    <path d=\"M18.56 5.44l.94 2.06.94-2.06 2.06-.94-2.06-.94-.94-2.06-.94 2.06-2.06.94zm-11 1L8.5 8.5l.94-2.06 2.06-.94-2.06-.94L8.5 2.5l-.94 2.06-2.06.94zm10 10l.94 2.06.94-2.06 2.06-.94-2.06-.94-.94-2.06-.94 2.06-2.06.94z\"/><path d=\"M17.41 7.96l-1.37-1.37c-.4-.4-.92-.59-1.43-.59-.52 0-1.04.2-1.43.59L10.3 9.45l-7.72 7.72c-.78.78-.78 2.05 0 2.83L4 21.41c.39.39.9.59 1.41.59.51 0 1.02-.2 1.41-.59l7.78-7.78 2.81-2.81c.8-.78.8-2.07 0-2.86zM5.41 20L4 18.59l7.72-7.72 1.47 1.35L5.41 20z\"/>\n",
              "  </svg>\n",
              "      </button>\n",
              "      \n",
              "  <style>\n",
              "    .colab-df-container {\n",
              "      display:flex;\n",
              "      flex-wrap:wrap;\n",
              "      gap: 12px;\n",
              "    }\n",
              "\n",
              "    .colab-df-convert {\n",
              "      background-color: #E8F0FE;\n",
              "      border: none;\n",
              "      border-radius: 50%;\n",
              "      cursor: pointer;\n",
              "      display: none;\n",
              "      fill: #1967D2;\n",
              "      height: 32px;\n",
              "      padding: 0 0 0 0;\n",
              "      width: 32px;\n",
              "    }\n",
              "\n",
              "    .colab-df-convert:hover {\n",
              "      background-color: #E2EBFA;\n",
              "      box-shadow: 0px 1px 2px rgba(60, 64, 67, 0.3), 0px 1px 3px 1px rgba(60, 64, 67, 0.15);\n",
              "      fill: #174EA6;\n",
              "    }\n",
              "\n",
              "    [theme=dark] .colab-df-convert {\n",
              "      background-color: #3B4455;\n",
              "      fill: #D2E3FC;\n",
              "    }\n",
              "\n",
              "    [theme=dark] .colab-df-convert:hover {\n",
              "      background-color: #434B5C;\n",
              "      box-shadow: 0px 1px 3px 1px rgba(0, 0, 0, 0.15);\n",
              "      filter: drop-shadow(0px 1px 2px rgba(0, 0, 0, 0.3));\n",
              "      fill: #FFFFFF;\n",
              "    }\n",
              "  </style>\n",
              "\n",
              "      <script>\n",
              "        const buttonEl =\n",
              "          document.querySelector('#df-900ee88b-9ba4-481b-9382-e5cdff1a9891 button.colab-df-convert');\n",
              "        buttonEl.style.display =\n",
              "          google.colab.kernel.accessAllowed ? 'block' : 'none';\n",
              "\n",
              "        async function convertToInteractive(key) {\n",
              "          const element = document.querySelector('#df-900ee88b-9ba4-481b-9382-e5cdff1a9891');\n",
              "          const dataTable =\n",
              "            await google.colab.kernel.invokeFunction('convertToInteractive',\n",
              "                                                     [key], {});\n",
              "          if (!dataTable) return;\n",
              "\n",
              "          const docLinkHtml = 'Like what you see? Visit the ' +\n",
              "            '<a target=\"_blank\" href=https://colab.research.google.com/notebooks/data_table.ipynb>data table notebook</a>'\n",
              "            + ' to learn more about interactive tables.';\n",
              "          element.innerHTML = '';\n",
              "          dataTable['output_type'] = 'display_data';\n",
              "          await google.colab.output.renderOutput(dataTable, element);\n",
              "          const docLink = document.createElement('div');\n",
              "          docLink.innerHTML = docLinkHtml;\n",
              "          element.appendChild(docLink);\n",
              "        }\n",
              "      </script>\n",
              "    </div>\n",
              "  </div>\n",
              "  "
            ]
          },
          "metadata": {},
          "execution_count": 4
        }
      ]
    },
    {
      "cell_type": "markdown",
      "source": [
        "## データを可視化（育成の熱心さに対して）"
      ],
      "metadata": {
        "id": "iS6j05xJjAWk"
      }
    },
    {
      "cell_type": "code",
      "source": [
        "# グラフで確認\n",
        "plt.scatter(x, Y)"
      ],
      "metadata": {
        "colab": {
          "base_uri": "https://localhost:8080/",
          "height": 282
        },
        "id": "WJxIcRN-tlO9",
        "outputId": "8b7f6b0d-a0c0-488a-f068-ce0c33cb9d0b"
      },
      "execution_count": null,
      "outputs": [
        {
          "output_type": "execute_result",
          "data": {
            "text/plain": [
              "<matplotlib.collections.PathCollection at 0x7f43747d6ee0>"
            ]
          },
          "metadata": {},
          "execution_count": 5
        },
        {
          "output_type": "display_data",
          "data": {
            "text/plain": [
              "<Figure size 432x288 with 1 Axes>"
            ],
            "image/png": "[encoded data removed]"
          },
          "metadata": {
            "needs_background": "light"
          }
        }
      ]
    },
    {
      "cell_type": "code",
      "execution_count": null,
      "metadata": {
        "colab": {
          "base_uri": "https://localhost:8080/",
          "height": 282
        },
        "id": "248szkIUIcAI",
        "outputId": "547d34d9-cce6-4834-8e98-04b235c108bf"
      },
      "outputs": [
        {
          "output_type": "execute_result",
          "data": {
            "text/plain": [
              "<matplotlib.collections.PathCollection at 0x7f4371e6b3d0>"
            ]
          },
          "metadata": {},
          "execution_count": 6
        },
        {
          "output_type": "display_data",
          "data": {
            "text/plain": [
              "<Figure size 432x288 with 1 Axes>"
            ],
            "image/png": "[encoded data removed]"
          },
          "metadata": {
            "needs_background": "light"
          }
        }
      ],
      "source": [
        "# グラフで確認\n",
        "plt.scatter(x, Y2)"
      ]
    },
    {
      "cell_type": "markdown",
      "source": [
        "- 実際は影響しそうだけ、今回は因果がないとしてデータ生成"
      ],
      "metadata": {
        "id": "EotSVFVYj0Qb"
      }
    },
    {
      "cell_type": "code",
      "source": [
        "# グラフで確認\n",
        "plt.scatter(x, Y3)"
      ],
      "metadata": {
        "colab": {
          "base_uri": "https://localhost:8080/",
          "height": 282
        },
        "id": "X11bI8AZL-Jx",
        "outputId": "f46cc0b3-97c2-4ea7-eaae-8ceea57db7a3"
      },
      "execution_count": null,
      "outputs": [
        {
          "output_type": "execute_result",
          "data": {
            "text/plain": [
              "<matplotlib.collections.PathCollection at 0x7f4371de7d90>"
            ]
          },
          "metadata": {},
          "execution_count": 7
        },
        {
          "output_type": "display_data",
          "data": {
            "text/plain": [
              "<Figure size 432x288 with 1 Axes>"
            ],
            "image/png": "[encoded data removed]"
          },
          "metadata": {
            "needs_background": "light"
          }
        }
      ]
    },
    {
      "cell_type": "code",
      "source": [
        "# グラフで確認\n",
        "plt.scatter(x, Y4)"
      ],
      "metadata": {
        "colab": {
          "base_uri": "https://localhost:8080/",
          "height": 282
        },
        "id": "Uo1iqXocL-Lu",
        "outputId": "96b89b72-49f5-4a75-d101-dc095ebe1da7"
      },
      "execution_count": null,
      "outputs": [
        {
          "output_type": "execute_result",
          "data": {
            "text/plain": [
              "<matplotlib.collections.PathCollection at 0x7f4371dd0a00>"
            ]
          },
          "metadata": {},
          "execution_count": 8
        },
        {
          "output_type": "display_data",
          "data": {
            "text/plain": [
              "<Figure size 432x288 with 1 Axes>"
            ],
            "image/png": "[encoded data removed]"
          },
          "metadata": {
            "needs_background": "light"
          }
        }
      ]
    },
    {
      "cell_type": "code",
      "source": [],
      "metadata": {
        "id": "ASF0NC9vL-Nh"
      },
      "execution_count": null,
      "outputs": []
    },
    {
      "cell_type": "markdown",
      "source": [
        "## データの離散化(ビンで区切る)"
      ],
      "metadata": {
        "id": "ZXYdnxRDX1xx"
      }
    },
    {
      "cell_type": "code",
      "source": [
        "# cut(閾値を等分で決める)とqcut(各ビンのデータ数が同じになるように決める)がある\n",
        "s_qcut, bins = pd.cut(df[\"Y\"], 5, labels=[1, 2, 3, 4, 5], retbins=True)\n",
        "\n",
        "print(s_qcut)\n",
        "print(\"=========\")\n",
        "print(bins)"
      ],
      "metadata": {
        "colab": {
          "base_uri": "https://localhost:8080/"
        },
        "id": "vgi6jK4iL-PX",
        "outputId": "a7406ac6-77cf-4605-d1fd-a63ca246007b"
      },
      "execution_count": null,
      "outputs": [
        {
          "output_type": "stream",
          "name": "stdout",
          "text": [
            "0       2\n",
            "1       4\n",
            "2       3\n",
            "3       5\n",
            "4       5\n",
            "       ..\n",
            "1995    2\n",
            "1996    4\n",
            "1997    4\n",
            "1998    4\n",
            "1999    4\n",
            "Name: Y, Length: 2000, dtype: category\n",
            "Categories (5, int64): [1 < 2 < 3 < 4 < 5]\n",
            "=========\n",
            "[1.16273463 1.69391091 2.22244452 2.75097813 3.27951174 3.80804535]\n"
          ]
        }
      ]
    },
    {
      "cell_type": "code",
      "source": [
        "for i in range(1, 6):\n",
        "  print(len(s_qcut[s_qcut == i]))"
      ],
      "metadata": {
        "colab": {
          "base_uri": "https://localhost:8080/"
        },
        "id": "-e5ocjgWL-RP",
        "outputId": "31da8e8b-fd9d-4a00-a6da-935a64d2b38e"
      },
      "execution_count": null,
      "outputs": [
        {
          "output_type": "stream",
          "name": "stdout",
          "text": [
            "195\n",
            "771\n",
            "447\n",
            "438\n",
            "149\n"
          ]
        }
      ]
    },
    {
      "cell_type": "code",
      "source": [
        "df[\"Y\"].hist()"
      ],
      "metadata": {
        "colab": {
          "base_uri": "https://localhost:8080/",
          "height": 282
        },
        "id": "ed291aRWL-TS",
        "outputId": "c262e085-3cd3-4fa6-f5b6-a5066dafe24a"
      },
      "execution_count": null,
      "outputs": [
        {
          "output_type": "execute_result",
          "data": {
            "text/plain": [
              "<AxesSubplot:>"
            ]
          },
          "metadata": {},
          "execution_count": 11
        },
        {
          "output_type": "display_data",
          "data": {
            "text/plain": [
              "<Figure size 432x288 with 1 Axes>"
            ],
            "image/png": "[encoded data removed]"
          },
          "metadata": {
            "needs_background": "light"
          }
        }
      ]
    },
    {
      "cell_type": "code",
      "source": [
        "df.head()"
      ],
      "metadata": {
        "colab": {
          "base_uri": "https://localhost:8080/",
          "height": 206
        },
        "id": "Mq7yDPLXc7_b",
        "outputId": "e3d24e6d-4017-4fe1-aa6e-0be537af21dc"
      },
      "execution_count": null,
      "outputs": [
        {
          "output_type": "execute_result",
          "data": {
            "text/plain": [
              "          x    Z    t         Y   Y2         Y3         Y4\n",
              "0 -0.616961  0.0  0.5  1.758937  2.0  12.666456  42.128242\n",
              "1  0.244218  1.0  0.7  2.956007  3.0  19.930087  64.707398\n",
              "2 -0.124545  0.0  0.5  2.434394  3.0  19.145587  64.210457\n",
              "3  0.570717  1.0  1.0  3.289929  3.0  22.070455  72.983015\n",
              "4  0.559952  1.0  1.0  3.750548  5.0  28.793678  89.958753"
            ],
            "text/html": [
              "\n",
              "  <div id=\"df-5ab767f6-59d6-4ea4-9c9f-5421eb6548a6\">\n",
              "    <div class=\"colab-df-container\">\n",
              "      <div>\n",
              "<style scoped>\n",
              "    .dataframe tbody tr th:only-of-type {\n",
              "        vertical-align: middle;\n",
              "    }\n",
              "\n",
              "    .dataframe tbody tr th {\n",
              "        vertical-align: top;\n",
              "    }\n",
              "\n",
              "    .dataframe thead th {\n",
              "        text-align: right;\n",
              "    }\n",
              "</style>\n",
              "<table border=\"1\" class=\"dataframe\">\n",
              "  <thead>\n",
              "    <tr style=\"text-align: right;\">\n",
              "      <th></th>\n",
              "      <th>x</th>\n",
              "      <th>Z</th>\n",
              "      <th>t</th>\n",
              "      <th>Y</th>\n",
              "      <th>Y2</th>\n",
              "      <th>Y3</th>\n",
              "      <th>Y4</th>\n",
              "    </tr>\n",
              "  </thead>\n",
              "  <tbody>\n",
              "    <tr>\n",
              "      <th>0</th>\n",
              "      <td>-0.616961</td>\n",
              "      <td>0.0</td>\n",
              "      <td>0.5</td>\n",
              "      <td>1.758937</td>\n",
              "      <td>2.0</td>\n",
              "      <td>12.666456</td>\n",
              "      <td>42.128242</td>\n",
              "    </tr>\n",
              "    <tr>\n",
              "      <th>1</th>\n",
              "      <td>0.244218</td>\n",
              "      <td>1.0</td>\n",
              "      <td>0.7</td>\n",
              "      <td>2.956007</td>\n",
              "      <td>3.0</td>\n",
              "      <td>19.930087</td>\n",
              "      <td>64.707398</td>\n",
              "    </tr>\n",
              "    <tr>\n",
              "      <th>2</th>\n",
              "      <td>-0.124545</td>\n",
              "      <td>0.0</td>\n",
              "      <td>0.5</td>\n",
              "      <td>2.434394</td>\n",
              "      <td>3.0</td>\n",
              "      <td>19.145587</td>\n",
              "      <td>64.210457</td>\n",
              "    </tr>\n",
              "    <tr>\n",
              "      <th>3</th>\n",
              "      <td>0.570717</td>\n",
              "      <td>1.0</td>\n",
              "      <td>1.0</td>\n",
              "      <td>3.289929</td>\n",
              "      <td>3.0</td>\n",
              "      <td>22.070455</td>\n",
              "      <td>72.983015</td>\n",
              "    </tr>\n",
              "    <tr>\n",
              "      <th>4</th>\n",
              "      <td>0.559952</td>\n",
              "      <td>1.0</td>\n",
              "      <td>1.0</td>\n",
              "      <td>3.750548</td>\n",
              "      <td>5.0</td>\n",
              "      <td>28.793678</td>\n",
              "      <td>89.958753</td>\n",
              "    </tr>\n",
              "  </tbody>\n",
              "</table>\n",
              "</div>\n",
              "      <button class=\"colab-df-convert\" onclick=\"convertToInteractive('df-5ab767f6-59d6-4ea4-9c9f-5421eb6548a6')\"\n",
              "              title=\"Convert this dataframe to an interactive table.\"\n",
              "              style=\"display:none;\">\n",
              "        \n",
              "  <svg xmlns=\"http://www.w3.org/2000/svg\" height=\"24px\"viewBox=\"0 0 24 24\"\n",
              "       width=\"24px\">\n",
              "    <path d=\"M0 0h24v24H0V0z\" fill=\"none\"/>\n",
              "    <path d=\"M18.56 5.44l.94 2.06.94-2.06 2.06-.94-2.06-.94-.94-2.06-.94 2.06-2.06.94zm-11 1L8.5 8.5l.94-2.06 2.06-.94-2.06-.94L8.5 2.5l-.94 2.06-2.06.94zm10 10l.94 2.06.94-2.06 2.06-.94-2.06-.94-.94-2.06-.94 2.06-2.06.94z\"/><path d=\"M17.41 7.96l-1.37-1.37c-.4-.4-.92-.59-1.43-.59-.52 0-1.04.2-1.43.59L10.3 9.45l-7.72 7.72c-.78.78-.78 2.05 0 2.83L4 21.41c.39.39.9.59 1.41.59.51 0 1.02-.2 1.41-.59l7.78-7.78 2.81-2.81c.8-.78.8-2.07 0-2.86zM5.41 20L4 18.59l7.72-7.72 1.47 1.35L5.41 20z\"/>\n",
              "  </svg>\n",
              "      </button>\n",
              "      \n",
              "  <style>\n",
              "    .colab-df-container {\n",
              "      display:flex;\n",
              "      flex-wrap:wrap;\n",
              "      gap: 12px;\n",
              "    }\n",
              "\n",
              "    .colab-df-convert {\n",
              "      background-color: #E8F0FE;\n",
              "      border: none;\n",
              "      border-radius: 50%;\n",
              "      cursor: pointer;\n",
              "      display: none;\n",
              "      fill: #1967D2;\n",
              "      height: 32px;\n",
              "      padding: 0 0 0 0;\n",
              "      width: 32px;\n",
              "    }\n",
              "\n",
              "    .colab-df-convert:hover {\n",
              "      background-color: #E2EBFA;\n",
              "      box-shadow: 0px 1px 2px rgba(60, 64, 67, 0.3), 0px 1px 3px 1px rgba(60, 64, 67, 0.15);\n",
              "      fill: #174EA6;\n",
              "    }\n",
              "\n",
              "    [theme=dark] .colab-df-convert {\n",
              "      background-color: #3B4455;\n",
              "      fill: #D2E3FC;\n",
              "    }\n",
              "\n",
              "    [theme=dark] .colab-df-convert:hover {\n",
              "      background-color: #434B5C;\n",
              "      box-shadow: 0px 1px 3px 1px rgba(0, 0, 0, 0.15);\n",
              "      filter: drop-shadow(0px 1px 2px rgba(0, 0, 0, 0.3));\n",
              "      fill: #FFFFFF;\n",
              "    }\n",
              "  </style>\n",
              "\n",
              "      <script>\n",
              "        const buttonEl =\n",
              "          document.querySelector('#df-5ab767f6-59d6-4ea4-9c9f-5421eb6548a6 button.colab-df-convert');\n",
              "        buttonEl.style.display =\n",
              "          google.colab.kernel.accessAllowed ? 'block' : 'none';\n",
              "\n",
              "        async function convertToInteractive(key) {\n",
              "          const element = document.querySelector('#df-5ab767f6-59d6-4ea4-9c9f-5421eb6548a6');\n",
              "          const dataTable =\n",
              "            await google.colab.kernel.invokeFunction('convertToInteractive',\n",
              "                                                     [key], {});\n",
              "          if (!dataTable) return;\n",
              "\n",
              "          const docLinkHtml = 'Like what you see? Visit the ' +\n",
              "            '<a target=\"_blank\" href=https://colab.research.google.com/notebooks/data_table.ipynb>data table notebook</a>'\n",
              "            + ' to learn more about interactive tables.';\n",
              "          element.innerHTML = '';\n",
              "          dataTable['output_type'] = 'display_data';\n",
              "          await google.colab.output.renderOutput(dataTable, element);\n",
              "          const docLink = document.createElement('div');\n",
              "          docLink.innerHTML = docLinkHtml;\n",
              "          element.appendChild(docLink);\n",
              "        }\n",
              "      </script>\n",
              "    </div>\n",
              "  </div>\n",
              "  "
            ]
          },
          "metadata": {},
          "execution_count": 12
        }
      ]
    },
    {
      "cell_type": "code",
      "source": [
        "df[\"Z\"].value_counts()"
      ],
      "metadata": {
        "colab": {
          "base_uri": "https://localhost:8080/"
        },
        "id": "18X0NoCedgy1",
        "outputId": "4ac2c6f8-442c-4ee9-f09b-2835df4d8a48"
      },
      "execution_count": null,
      "outputs": [
        {
          "output_type": "execute_result",
          "data": {
            "text/plain": [
              "0.0    1006\n",
              "1.0     994\n",
              "Name: Z, dtype: int64"
            ]
          },
          "metadata": {},
          "execution_count": 13
        }
      ]
    },
    {
      "cell_type": "code",
      "source": [
        "df_bin = df.copy()\n",
        "del df_bin[\"t\"]\n",
        "\n",
        "# x:部下育成への熱心さ\n",
        "df_bin[\"x\"], x_bins = pd.cut(df[\"x\"], 5, labels=[1, 2, 3, 4, 5], retbins=True)\n",
        "\n",
        "# Z:上司が「上司向け：部下とのキャリア面談のポイント研修」に参加したかどうか\n",
        "df_bin[\"Z\"], Z_bins = pd.cut(df[\"Z\"], 2, labels=[0, 1], retbins=True)\n",
        "\n",
        "# Y:部下の面談の満足度\n",
        "df_bin[\"Y\"], Y_bins = pd.cut(df[\"Y\"], 5, labels=[1, 2, 3, 4, 5], retbins=True)\n",
        "\n",
        "# Y2：部下当人のチームメンバへの満足度 1から5の5段階\n",
        "# # ※qcutではなく、cutで値に応じて分割\n",
        "df_bin[\"Y2\"], y2_bins = pd.cut(\n",
        "    df[\"Y2\"], 5, labels=[1, 2, 3, 4, 5], retbins=True)\n",
        "\n",
        "# Y3：部下当人の仕事への満足度\n",
        "df_bin[\"Y3\"], y3_bins = pd.cut(\n",
        "    df[\"Y3\"], 5, labels=[1, 2, 3, 4, 5], retbins=True)\n",
        "\n",
        "# Y4：部下当人の仕事のパフォーマンス\n",
        "df_bin[\"Y4\"], y4_bins = pd.cut(\n",
        "    df[\"Y4\"], 5, labels=[1, 2, 3, 4, 5], retbins=True)\n",
        "\n",
        "# 確認\n",
        "df_bin.head()"
      ],
      "metadata": {
        "colab": {
          "base_uri": "https://localhost:8080/",
          "height": 206
        },
        "id": "sQ7X5ycYL-U3",
        "outputId": "96587a8b-857b-4c1e-ab81-a798719b0699"
      },
      "execution_count": null,
      "outputs": [
        {
          "output_type": "execute_result",
          "data": {
            "text/plain": [
              "   x  Z  Y Y2 Y3 Y4\n",
              "0  1  0  2  2  2  2\n",
              "1  4  1  4  3  3  3\n",
              "2  3  0  3  3  3  3\n",
              "3  4  1  5  3  4  4\n",
              "4  4  1  5  5  5  5"
            ],
            "text/html": [
              "\n",
              "  <div id=\"df-73a70674-89b0-4ce7-b680-99bbf2de6486\">\n",
              "    <div class=\"colab-df-container\">\n",
              "      <div>\n",
              "<style scoped>\n",
              "    .dataframe tbody tr th:only-of-type {\n",
              "        vertical-align: middle;\n",
              "    }\n",
              "\n",
              "    .dataframe tbody tr th {\n",
              "        vertical-align: top;\n",
              "    }\n",
              "\n",
              "    .dataframe thead th {\n",
              "        text-align: right;\n",
              "    }\n",
              "</style>\n",
              "<table border=\"1\" class=\"dataframe\">\n",
              "  <thead>\n",
              "    <tr style=\"text-align: right;\">\n",
              "      <th></th>\n",
              "      <th>x</th>\n",
              "      <th>Z</th>\n",
              "      <th>Y</th>\n",
              "      <th>Y2</th>\n",
              "      <th>Y3</th>\n",
              "      <th>Y4</th>\n",
              "    </tr>\n",
              "  </thead>\n",
              "  <tbody>\n",
              "    <tr>\n",
              "      <th>0</th>\n",
              "      <td>1</td>\n",
              "      <td>0</td>\n",
              "      <td>2</td>\n",
              "      <td>2</td>\n",
              "      <td>2</td>\n",
              "      <td>2</td>\n",
              "    </tr>\n",
              "    <tr>\n",
              "      <th>1</th>\n",
              "      <td>4</td>\n",
              "      <td>1</td>\n",
              "      <td>4</td>\n",
              "      <td>3</td>\n",
              "      <td>3</td>\n",
              "      <td>3</td>\n",
              "    </tr>\n",
              "    <tr>\n",
              "      <th>2</th>\n",
              "      <td>3</td>\n",
              "      <td>0</td>\n",
              "      <td>3</td>\n",
              "      <td>3</td>\n",
              "      <td>3</td>\n",
              "      <td>3</td>\n",
              "    </tr>\n",
              "    <tr>\n",
              "      <th>3</th>\n",
              "      <td>4</td>\n",
              "      <td>1</td>\n",
              "      <td>5</td>\n",
              "      <td>3</td>\n",
              "      <td>4</td>\n",
              "      <td>4</td>\n",
              "    </tr>\n",
              "    <tr>\n",
              "      <th>4</th>\n",
              "      <td>4</td>\n",
              "      <td>1</td>\n",
              "      <td>5</td>\n",
              "      <td>5</td>\n",
              "      <td>5</td>\n",
              "      <td>5</td>\n",
              "    </tr>\n",
              "  </tbody>\n",
              "</table>\n",
              "</div>\n",
              "      <button class=\"colab-df-convert\" onclick=\"convertToInteractive('df-73a70674-89b0-4ce7-b680-99bbf2de6486')\"\n",
              "              title=\"Convert this dataframe to an interactive table.\"\n",
              "              style=\"display:none;\">\n",
              "        \n",
              "  <svg xmlns=\"http://www.w3.org/2000/svg\" height=\"24px\"viewBox=\"0 0 24 24\"\n",
              "       width=\"24px\">\n",
              "    <path d=\"M0 0h24v24H0V0z\" fill=\"none\"/>\n",
              "    <path d=\"M18.56 5.44l.94 2.06.94-2.06 2.06-.94-2.06-.94-.94-2.06-.94 2.06-2.06.94zm-11 1L8.5 8.5l.94-2.06 2.06-.94-2.06-.94L8.5 2.5l-.94 2.06-2.06.94zm10 10l.94 2.06.94-2.06 2.06-.94-2.06-.94-.94-2.06-.94 2.06-2.06.94z\"/><path d=\"M17.41 7.96l-1.37-1.37c-.4-.4-.92-.59-1.43-.59-.52 0-1.04.2-1.43.59L10.3 9.45l-7.72 7.72c-.78.78-.78 2.05 0 2.83L4 21.41c.39.39.9.59 1.41.59.51 0 1.02-.2 1.41-.59l7.78-7.78 2.81-2.81c.8-.78.8-2.07 0-2.86zM5.41 20L4 18.59l7.72-7.72 1.47 1.35L5.41 20z\"/>\n",
              "  </svg>\n",
              "      </button>\n",
              "      \n",
              "  <style>\n",
              "    .colab-df-container {\n",
              "      display:flex;\n",
              "      flex-wrap:wrap;\n",
              "      gap: 12px;\n",
              "    }\n",
              "\n",
              "    .colab-df-convert {\n",
              "      background-color: #E8F0FE;\n",
              "      border: none;\n",
              "      border-radius: 50%;\n",
              "      cursor: pointer;\n",
              "      display: none;\n",
              "      fill: #1967D2;\n",
              "      height: 32px;\n",
              "      padding: 0 0 0 0;\n",
              "      width: 32px;\n",
              "    }\n",
              "\n",
              "    .colab-df-convert:hover {\n",
              "      background-color: #E2EBFA;\n",
              "      box-shadow: 0px 1px 2px rgba(60, 64, 67, 0.3), 0px 1px 3px 1px rgba(60, 64, 67, 0.15);\n",
              "      fill: #174EA6;\n",
              "    }\n",
              "\n",
              "    [theme=dark] .colab-df-convert {\n",
              "      background-color: #3B4455;\n",
              "      fill: #D2E3FC;\n",
              "    }\n",
              "\n",
              "    [theme=dark] .colab-df-convert:hover {\n",
              "      background-color: #434B5C;\n",
              "      box-shadow: 0px 1px 3px 1px rgba(0, 0, 0, 0.15);\n",
              "      filter: drop-shadow(0px 1px 2px rgba(0, 0, 0, 0.3));\n",
              "      fill: #FFFFFF;\n",
              "    }\n",
              "  </style>\n",
              "\n",
              "      <script>\n",
              "        const buttonEl =\n",
              "          document.querySelector('#df-73a70674-89b0-4ce7-b680-99bbf2de6486 button.colab-df-convert');\n",
              "        buttonEl.style.display =\n",
              "          google.colab.kernel.accessAllowed ? 'block' : 'none';\n",
              "\n",
              "        async function convertToInteractive(key) {\n",
              "          const element = document.querySelector('#df-73a70674-89b0-4ce7-b680-99bbf2de6486');\n",
              "          const dataTable =\n",
              "            await google.colab.kernel.invokeFunction('convertToInteractive',\n",
              "                                                     [key], {});\n",
              "          if (!dataTable) return;\n",
              "\n",
              "          const docLinkHtml = 'Like what you see? Visit the ' +\n",
              "            '<a target=\"_blank\" href=https://colab.research.google.com/notebooks/data_table.ipynb>data table notebook</a>'\n",
              "            + ' to learn more about interactive tables.';\n",
              "          element.innerHTML = '';\n",
              "          dataTable['output_type'] = 'display_data';\n",
              "          await google.colab.output.renderOutput(dataTable, element);\n",
              "          const docLink = document.createElement('div');\n",
              "          docLink.innerHTML = docLinkHtml;\n",
              "          element.appendChild(docLink);\n",
              "        }\n",
              "      </script>\n",
              "    </div>\n",
              "  </div>\n",
              "  "
            ]
          },
          "metadata": {},
          "execution_count": 14
        }
      ]
    },
    {
      "cell_type": "code",
      "source": [
        "for col_name in df_bin.columns:\n",
        "  print(f\"カラム名：{col_name}\")\n",
        "  display(df_bin[col_name].value_counts())\n",
        "  print(\"=====\")"
      ],
      "metadata": {
        "colab": {
          "base_uri": "https://localhost:8080/",
          "height": 797
        },
        "id": "IFvb8Dfzb8Md",
        "outputId": "8563390b-4165-4ac9-d4c5-f29b48af4f48"
      },
      "execution_count": null,
      "outputs": [
        {
          "output_type": "stream",
          "name": "stdout",
          "text": [
            "カラム名：x\n"
          ]
        },
        {
          "output_type": "display_data",
          "data": {
            "text/plain": [
              "1    452\n",
              "5    414\n",
              "3    410\n",
              "4    381\n",
              "2    343\n",
              "Name: x, dtype: int64"
            ]
          },
          "metadata": {}
        },
        {
          "output_type": "stream",
          "name": "stdout",
          "text": [
            "=====\n",
            "カラム名：Z\n"
          ]
        },
        {
          "output_type": "display_data",
          "data": {
            "text/plain": [
              "0    1006\n",
              "1     994\n",
              "Name: Z, dtype: int64"
            ]
          },
          "metadata": {}
        },
        {
          "output_type": "stream",
          "name": "stdout",
          "text": [
            "=====\n",
            "カラム名：Y\n"
          ]
        },
        {
          "output_type": "display_data",
          "data": {
            "text/plain": [
              "2    771\n",
              "3    447\n",
              "4    438\n",
              "1    195\n",
              "5    149\n",
              "Name: Y, dtype: int64"
            ]
          },
          "metadata": {}
        },
        {
          "output_type": "stream",
          "name": "stdout",
          "text": [
            "=====\n",
            "カラム名：Y2\n"
          ]
        },
        {
          "output_type": "display_data",
          "data": {
            "text/plain": [
              "3    599\n",
              "2    407\n",
              "4    405\n",
              "5    390\n",
              "1    199\n",
              "Name: Y2, dtype: int64"
            ]
          },
          "metadata": {}
        },
        {
          "output_type": "stream",
          "name": "stdout",
          "text": [
            "=====\n",
            "カラム名：Y3\n"
          ]
        },
        {
          "output_type": "display_data",
          "data": {
            "text/plain": [
              "3    840\n",
              "2    544\n",
              "4    436\n",
              "1     97\n",
              "5     83\n",
              "Name: Y3, dtype: int64"
            ]
          },
          "metadata": {}
        },
        {
          "output_type": "stream",
          "name": "stdout",
          "text": [
            "=====\n",
            "カラム名：Y4\n"
          ]
        },
        {
          "output_type": "display_data",
          "data": {
            "text/plain": [
              "3    876\n",
              "2    538\n",
              "4    431\n",
              "1     86\n",
              "5     69\n",
              "Name: Y4, dtype: int64"
            ]
          },
          "metadata": {}
        },
        {
          "output_type": "stream",
          "name": "stdout",
          "text": [
            "=====\n"
          ]
        }
      ]
    },
    {
      "cell_type": "markdown",
      "source": [
        "# PCアルゴリズムを実施"
      ],
      "metadata": {
        "id": "3CwUPJKUgPlV"
      }
    },
    {
      "cell_type": "markdown",
      "source": [
        "## まずは独立性の検定"
      ],
      "metadata": {
        "id": "IIpukJQph5Tr"
      }
    },
    {
      "cell_type": "code",
      "source": [
        "!pip install pgmpy==0.1.9"
      ],
      "metadata": {
        "colab": {
          "base_uri": "https://localhost:8080/"
        },
        "id": "_yHlrg24b8XQ",
        "outputId": "3431b9ee-f4d4-4e4e-f677-c52a9807d2fd"
      },
      "execution_count": null,
      "outputs": [
        {
          "output_type": "stream",
          "name": "stdout",
          "text": [
            "Looking in indexes: https://pypi.org/simple, https://us-python.pkg.dev/colab-wheels/public/simple/\n",
            "Collecting pgmpy==0.1.9\n",
            "  Downloading pgmpy-0.1.9-py3-none-any.whl (331 kB)\n",
            "\u001b[2K     \u001b[90m━━━━━━━━━━━━━━━━━━━━━━━━━━━━━━━━━━━━━━━\u001b[0m \u001b[32m331.7/331.7 KB\u001b[0m \u001b[31m7.8 MB/s\u001b[0m eta \u001b[36m0:00:00\u001b[0m\n",
            "\u001b[?25hInstalling collected packages: pgmpy\n",
            "Successfully installed pgmpy-0.1.9\n"
          ]
        }
      ]
    },
    {
      "cell_type": "code",
      "source": [
        "from pgmpy.estimators import ConstraintBasedEstimator\n",
        "\n",
        "est = ConstraintBasedEstimator(df_bin)\n",
        "\n",
        "# 0次の独立性の検定\n",
        "# 指定するもの：調べたい2変数(2カラム)、検定の手法（今回はカイ二乗検定）、閾値(p値？)\n",
        "# 6カラムあるので、組み合わせは5+4+3+2+1=15通り\n",
        "\n",
        "print(est.test_conditional_independence(\n",
        "    \"x\", \"Z\", method=\"chi_square\", tol=0.05))\n",
        "print(est.test_conditional_independence(\n",
        "    'x', 'Y', method=\"chi_square\", tol=0.05))\n",
        "print(est.test_conditional_independence(\n",
        "    'x', 'Y2', method=\"chi_square\", tol=0.05))\n",
        "print(est.test_conditional_independence(\n",
        "    'x', 'Y3', method=\"chi_square\", tol=0.05))\n",
        "print(est.test_conditional_independence(\n",
        "    'x', 'Y4', method=\"chi_square\", tol=0.05))\n",
        "print(\"=====\")\n",
        "print(est.test_conditional_independence(\n",
        "    'Z', 'Y', method=\"chi_square\", tol=0.05))\n",
        "print(est.test_conditional_independence(\n",
        "    'Z', 'Y2', method=\"chi_square\", tol=0.05))\n",
        "print(est.test_conditional_independence(\n",
        "    'Z', 'Y3', method=\"chi_square\", tol=0.05))\n",
        "print(est.test_conditional_independence(\n",
        "    'Z', 'Y4', method=\"chi_square\", tol=0.05))\n",
        "print(\"=====\")\n",
        "print(est.test_conditional_independence(\n",
        "    'Y', 'Y2', method=\"chi_square\", tol=0.05))\n",
        "print(est.test_conditional_independence(\n",
        "    'Y', 'Y3', method=\"chi_square\", tol=0.05))\n",
        "print(est.test_conditional_independence(\n",
        "    'Y', 'Y4', method=\"chi_square\", tol=0.05))\n",
        "print(\"=====\")\n",
        "print(est.test_conditional_independence(\n",
        "    'Y2', 'Y3', method=\"chi_square\", tol=0.05))\n",
        "print(est.test_conditional_independence(\n",
        "    'Y2', 'Y4', method=\"chi_square\", tol=0.05))\n",
        "print(\"=====\")\n",
        "print(est.test_conditional_independence(\n",
        "    'Y3', 'Y4', method=\"chi_square\", tol=0.05))\n",
        "print(\"=====\")"
      ],
      "metadata": {
        "colab": {
          "base_uri": "https://localhost:8080/"
        },
        "id": "VNKLluOQb8Z1",
        "outputId": "fa0bf5be-56db-4cef-8051-e337cb758d0c"
      },
      "execution_count": null,
      "outputs": [
        {
          "output_type": "stream",
          "name": "stdout",
          "text": [
            "False\n",
            "False\n",
            "True\n",
            "False\n",
            "False\n",
            "=====\n",
            "False\n",
            "True\n",
            "False\n",
            "False\n",
            "=====\n",
            "True\n",
            "False\n",
            "False\n",
            "=====\n",
            "False\n",
            "False\n",
            "=====\n",
            "False\n",
            "=====\n"
          ]
        }
      ]
    },
    {
      "cell_type": "markdown",
      "source": [
        "Falseならエッジでつなぐ"
      ],
      "metadata": {
        "id": "krzMwASdjsnY"
      }
    },
    {
      "cell_type": "code",
      "source": [
        "# 1次の独立性の検定　\n",
        "# 指定するもの：調べたい2変数(2カラム)、固定したい1変数(カラム)、検定の手法（今回はカイ二乗検定）、閾値(p値？)\n",
        "# 0次の独立性の検定で関連があったものに対して選ぶ\n",
        "\n",
        "# 変数xについて：xは4変数と関連があったので、4*3=12通り\n",
        "print(est.test_conditional_independence(\n",
        "    'x', 'Z', ['Y'], method=\"chi_square\", tol=0.05))\n",
        "print(est.test_conditional_independence(\n",
        "    'x', 'Z', ['Y3'], method=\"chi_square\", tol=0.05))\n",
        "print(est.test_conditional_independence(\n",
        "    'x', 'Z', ['Y4'], method=\"chi_square\", tol=0.05))\n",
        "\n",
        "print(est.test_conditional_independence(\n",
        "    'x', 'Y', ['Z'], method=\"chi_square\", tol=0.05))\n",
        "print(est.test_conditional_independence(\n",
        "    'x', 'Y', ['Y3'], method=\"chi_square\", tol=0.05))\n",
        "print(est.test_conditional_independence(\n",
        "    'x', 'Y', ['Y4'], method=\"chi_square\", tol=0.05))\n",
        "\n",
        "print(est.test_conditional_independence(\n",
        "    'x', 'Y3', ['Z'], method=\"chi_square\", tol=0.05))\n",
        "print(est.test_conditional_independence(\n",
        "    'x', 'Y3', ['Y'], method=\"chi_square\", tol=0.05))\n",
        "print(est.test_conditional_independence(\n",
        "    'x', 'Y3', ['Y4'], method=\"chi_square\", tol=0.05))\n",
        "\n",
        "print(est.test_conditional_independence(\n",
        "    'x', 'Y4', ['Z'], method=\"chi_square\", tol=0.05))\n",
        "print(est.test_conditional_independence(\n",
        "    'x', 'Y4', ['Y'], method=\"chi_square\", tol=0.05))\n",
        "print(est.test_conditional_independence(\n",
        "    'x', 'Y4', ['Y3'], method=\"chi_square\", tol=0.05))\n"
      ],
      "metadata": {
        "colab": {
          "base_uri": "https://localhost:8080/"
        },
        "id": "e1a_Oohtb8cc",
        "outputId": "ac124179-e50e-4c3f-adc0-033b4d023cf9"
      },
      "execution_count": null,
      "outputs": [
        {
          "output_type": "stream",
          "name": "stdout",
          "text": [
            "False\n"
          ]
        },
        {
          "output_type": "stream",
          "name": "stderr",
          "text": [
            "/usr/local/lib/python3.8/dist-packages/pgmpy/estimators/CITests.py:112: FutureWarning: Using the level keyword in DataFrame and Series aggregations is deprecated and will be removed in a future version. Use groupby instead. df.sum(level=1) should use df.groupby(level=1).sum().\n",
            "  XZ_state_counts = XYZ_state_counts.sum(axis=1, level=Z)  # marginalize out Y\n"
          ]
        },
        {
          "output_type": "stream",
          "name": "stdout",
          "text": [
            "False\n",
            "False\n",
            "False\n",
            "False\n",
            "False\n",
            "False\n",
            "True\n",
            "False\n",
            "False\n",
            "True\n",
            "True\n"
          ]
        }
      ]
    },
    {
      "cell_type": "code",
      "source": [
        "# 変数Zについて：Zは4変数と関連があったので、4*3=12通り\n",
        "print(est.test_conditional_independence(\n",
        "    'Z', 'x', ['Y'], method=\"chi_square\", tol=0.05))\n",
        "print(est.test_conditional_independence(\n",
        "    'Z', 'x', ['Y3'], method=\"chi_square\", tol=0.05))\n",
        "print(est.test_conditional_independence(\n",
        "    'Z', 'x', ['Y4'], method=\"chi_square\", tol=0.05))\n",
        "\n",
        "print(est.test_conditional_independence(\n",
        "    'Z', 'Y', ['x'], method=\"chi_square\", tol=0.05))\n",
        "print(est.test_conditional_independence(\n",
        "    'Z', 'Y', ['Y3'], method=\"chi_square\", tol=0.05))\n",
        "print(est.test_conditional_independence(\n",
        "    'Z', 'Y', ['Y4'], method=\"chi_square\", tol=0.05))\n",
        "\n",
        "print(est.test_conditional_independence(\n",
        "    'Z', 'Y3', ['x'], method=\"chi_square\", tol=0.05))\n",
        "print(est.test_conditional_independence(\n",
        "    'Z', 'Y3', ['Y'], method=\"chi_square\", tol=0.05))\n",
        "print(est.test_conditional_independence(\n",
        "    'Z', 'Y3', ['Y4'], method=\"chi_square\", tol=0.05))\n",
        "\n",
        "print(est.test_conditional_independence(\n",
        "    'Z', 'Y4', ['x'], method=\"chi_square\", tol=0.05))\n",
        "print(est.test_conditional_independence(\n",
        "    'Z', 'Y4', ['Y'], method=\"chi_square\", tol=0.05))\n",
        "print(est.test_conditional_independence(\n",
        "    'Z', 'Y4', ['Y3'], method=\"chi_square\", tol=0.05))"
      ],
      "metadata": {
        "colab": {
          "base_uri": "https://localhost:8080/"
        },
        "id": "2VpHndASb8fZ",
        "outputId": "446b9b88-c05e-4bcf-b047-e05ef4db3362"
      },
      "execution_count": null,
      "outputs": [
        {
          "output_type": "stream",
          "name": "stdout",
          "text": [
            "False\n",
            "False\n",
            "False\n",
            "False\n",
            "False\n",
            "False\n",
            "False\n",
            "True\n",
            "False\n",
            "False\n",
            "True\n",
            "True\n"
          ]
        }
      ]
    },
    {
      "cell_type": "code",
      "source": [
        "# 変数Yについて：Yは4変数と関連があったので、4*3=12通り\n",
        "print(est.test_conditional_independence(\n",
        "    'Y', 'x', ['Z'], method=\"chi_square\", tol=0.05))\n",
        "print(est.test_conditional_independence(\n",
        "    'Y', 'x', ['Y3'], method=\"chi_square\", tol=0.05))\n",
        "print(est.test_conditional_independence(\n",
        "    'Y', 'x', ['Y4'], method=\"chi_square\", tol=0.05))\n",
        "\n",
        "print(est.test_conditional_independence(\n",
        "    'Y', 'Z', ['x'], method=\"chi_square\", tol=0.05))\n",
        "print(est.test_conditional_independence(\n",
        "    'Y', 'Z', ['Y3'], method=\"chi_square\", tol=0.05))\n",
        "print(est.test_conditional_independence(\n",
        "    'Y', 'Z', ['Y4'], method=\"chi_square\", tol=0.05))\n",
        "\n",
        "print(est.test_conditional_independence(\n",
        "    'Y', 'Y3', ['x'], method=\"chi_square\", tol=0.05))\n",
        "print(est.test_conditional_independence(\n",
        "    'Y', 'Y3', ['Z'], method=\"chi_square\", tol=0.05))\n",
        "print(est.test_conditional_independence(\n",
        "    'Y', 'Y3', ['Y4'], method=\"chi_square\", tol=0.05))\n",
        "\n",
        "print(est.test_conditional_independence(\n",
        "    'Y', 'Y4', ['x'], method=\"chi_square\", tol=0.05))\n",
        "print(est.test_conditional_independence(\n",
        "    'Y', 'Y4', ['Z'], method=\"chi_square\", tol=0.05))\n",
        "print(est.test_conditional_independence(\n",
        "    'Y', 'Y4', ['Y3'], method=\"chi_square\", tol=0.05))"
      ],
      "metadata": {
        "colab": {
          "base_uri": "https://localhost:8080/"
        },
        "id": "mV3S9WPgb8iv",
        "outputId": "a9ebd3b9-5622-4ad4-f604-ab4fe7827359"
      },
      "execution_count": null,
      "outputs": [
        {
          "output_type": "stream",
          "name": "stdout",
          "text": [
            "False\n",
            "False\n",
            "False\n",
            "False\n",
            "False\n",
            "False\n",
            "False\n",
            "False\n",
            "False\n",
            "False\n",
            "False\n",
            "True\n"
          ]
        }
      ]
    },
    {
      "cell_type": "code",
      "source": [
        "# 変数Y2について：Y2は2変数と関連があったので、2*1=2通り\n",
        "print(est.test_conditional_independence(\n",
        "    'Y2', 'Y3', ['Y4'], method=\"chi_square\", tol=0.05))\n",
        "print(est.test_conditional_independence(\n",
        "    'Y2', 'Y4', ['Y3'], method=\"chi_square\", tol=0.05))"
      ],
      "metadata": {
        "colab": {
          "base_uri": "https://localhost:8080/"
        },
        "id": "su4Gf_1Vb8l1",
        "outputId": "93690160-b485-4c90-aefc-8cec34691c72"
      },
      "execution_count": null,
      "outputs": [
        {
          "output_type": "stream",
          "name": "stdout",
          "text": [
            "False\n",
            "True\n"
          ]
        }
      ]
    },
    {
      "cell_type": "code",
      "source": [
        "# 1次の独立性の検定 変数Y3\n",
        "print(est.test_conditional_independence(\n",
        "    'Y3', 'Y', ['Y2'], method=\"chi_square\", tol=0.05))\n",
        "print(est.test_conditional_independence(\n",
        "    'Y3', 'Y', ['Y4'], method=\"chi_square\", tol=0.05))\n",
        "\n",
        "print(est.test_conditional_independence(\n",
        "    'Y3', 'Y2', ['Y'], method=\"chi_square\", tol=0.05))\n",
        "print(est.test_conditional_independence(\n",
        "    'Y3', 'Y2', ['Y4'], method=\"chi_square\", tol=0.05))\n",
        "\n",
        "print(est.test_conditional_independence(\n",
        "    'Y3', 'Y4', ['Y'], method=\"chi_square\", tol=0.05))\n",
        "print(est.test_conditional_independence(\n",
        "    'Y3', 'Y4', ['Y2'], method=\"chi_square\", tol=0.05))\n"
      ],
      "metadata": {
        "colab": {
          "base_uri": "https://localhost:8080/"
        },
        "id": "FEBGeSFwL-Wb",
        "outputId": "7cd19ab9-8362-4efc-f686-98dfe8b0b8d6"
      },
      "execution_count": null,
      "outputs": [
        {
          "output_type": "stream",
          "name": "stdout",
          "text": [
            "False\n",
            "False\n",
            "False\n",
            "False\n",
            "False\n",
            "False\n"
          ]
        }
      ]
    },
    {
      "cell_type": "code",
      "source": [
        "# 2次の独立性の検定　\n",
        "# 指定するもの：調べたい2変数(2カラム)、固定したい2変数(カラム)、検定の手法（今回はカイ二乗検定）、閾値(p値？)\n",
        "# 1次の独立性の検定で関連があったものに対して選ぶ\n",
        "\n",
        "# Yについて\n",
        "print(est.test_conditional_independence(\n",
        "    'Y', 'x', ['Z', 'Y3'], method=\"chi_square\", tol=0.05))\n",
        "print(est.test_conditional_independence(\n",
        "    'Y', 'Z', ['x', 'Y3'], method=\"chi_square\", tol=0.05))\n",
        "print(est.test_conditional_independence(\n",
        "    'Y', 'Y3', ['x', 'Z'], method=\"chi_square\", tol=0.05))\n"
      ],
      "metadata": {
        "colab": {
          "base_uri": "https://localhost:8080/"
        },
        "id": "VCt-p71eL-YR",
        "outputId": "8e336f99-37ca-4c24-b8a5-3454e0c9b837"
      },
      "execution_count": null,
      "outputs": [
        {
          "output_type": "stream",
          "name": "stdout",
          "text": [
            "False\n",
            "False\n",
            "False\n"
          ]
        }
      ]
    },
    {
      "cell_type": "code",
      "source": [
        " # 2次の独立性の検定　\n",
        " # Y3について\n",
        "\n",
        "print(est.test_conditional_independence(\n",
        "    'Y3', 'Y', ['Y2', 'Y4'], method=\"chi_square\", tol=0.05))\n",
        "print(est.test_conditional_independence(\n",
        "    'Y3', 'Y2', ['Y', 'Y4'], method=\"chi_square\", tol=0.05))\n",
        "print(est.test_conditional_independence(\n",
        "    'Y3', 'Y4', ['Y', 'Y2'], method=\"chi_square\", tol=0.05))"
      ],
      "metadata": {
        "colab": {
          "base_uri": "https://localhost:8080/"
        },
        "id": "l0ZwbIouL-aC",
        "outputId": "f9f07df1-ec5d-47f3-eb5f-f40fab6c5690"
      },
      "execution_count": null,
      "outputs": [
        {
          "output_type": "stream",
          "name": "stdout",
          "text": [
            "False\n",
            "False\n",
            "False\n"
          ]
        }
      ]
    },
    {
      "cell_type": "code",
      "source": [
        "# オリエンテーションルールの方向づけ\n",
        "# その1:v字構造での方向づけ\n",
        "\n",
        "# x-Y-Y3\n",
        "print(est.test_conditional_independence(\n",
        "    'x', 'Y3', ['Y'], method=\"chi_square\", tol=0.05))\n",
        "\n",
        "# Z-Y-Y3\n",
        "print(est.test_conditional_independence(\n",
        "    'Z', 'Y3', ['Y'], method=\"chi_square\", tol=0.05))\n",
        "\n",
        "# Y-Y3-Y2\n",
        "print(est.test_conditional_independence(\n",
        "    'Y', 'Y2', ['Y3'], method=\"chi_square\", tol=0.05))\n",
        "\n",
        "# Y2-Y3-Y4\n",
        "print(est.test_conditional_independence(\n",
        "    'Y2', 'Y4', ['Y3'], method=\"chi_square\", tol=0.05))"
      ],
      "metadata": {
        "colab": {
          "base_uri": "https://localhost:8080/"
        },
        "id": "ZbrJMTv0SYzX",
        "outputId": "ead09057-efa2-49f1-bdf7-f9caede010b1"
      },
      "execution_count": null,
      "outputs": [
        {
          "output_type": "stream",
          "name": "stdout",
          "text": [
            "True\n",
            "True\n",
            "False\n",
            "True\n"
          ]
        }
      ]
    },
    {
      "cell_type": "markdown",
      "source": [
        "Y-Y3-Y2は独立構造が否定されたので、Y -> Y3 <- Y2となる"
      ],
      "metadata": {
        "id": "OBCfqSRwUM8r"
      }
    },
    {
      "cell_type": "code",
      "source": [
        "# オリエンテーションルールの方向づけ\n",
        "# その2：PDAGに対して、因果の矢印がひける\n",
        "\n",
        "## Y3 -> Y4とできる"
      ],
      "metadata": {
        "id": "4QD5hjrcSY4P"
      },
      "execution_count": null,
      "outputs": []
    },
    {
      "cell_type": "code",
      "source": [
        "# x, Y, Zの因果の向きが決まらないので、BICを用いたスコアリング構造学習を実施\n",
        "# 考えられるモデル(因果の向き)は6通り"
      ],
      "metadata": {
        "id": "vag0zNeQU9ps"
      },
      "execution_count": null,
      "outputs": []
    },
    {
      "cell_type": "code",
      "source": [
        "# 最後上の三角形が決まらない\n",
        "# BICを求め、比較\n",
        "from pgmpy.models import BayesianModel\n",
        "from pgmpy.estimators import BicScore\n",
        "\n",
        "model = BayesianModel([('x', 'Z'), ('x', 'Y'), ('Z', 'Y'), ('Y', 'Y3'), ('Y2', 'Y3'), ('Y3', 'Y4')])  \n",
        "print(BicScore(df_bin).score(model))\n",
        "\n",
        "model = BayesianModel([('x', 'Z'), ('x', 'Y'), ('Y', 'Z'), ('Y', 'Y3'), ('Y2', 'Y3'), ('Y3', 'Y4')])  \n",
        "print(BicScore(df_bin).score(model))\n",
        "\n",
        "model = BayesianModel([('Z', 'x'), ('Z', 'Y'), ('x', 'Y'), ('Y', 'Y3'), ('Y2', 'Y3'), ('Y3', 'Y4')])  \n",
        "print(BicScore(df_bin).score(model))\n",
        "\n",
        "model = BayesianModel([('Z', 'x'), ('Z', 'Y'), ('Y', 'x'), ('Y', 'Y3'), ('Y2', 'Y3'), ('Y3', 'Y4')])  \n",
        "print(BicScore(df_bin).score(model))\n",
        "\n",
        "model = BayesianModel([('Y', 'x'), ('Y', 'Z'), ('x', 'Z'), ('Y', 'Y3'), ('Y2', 'Y3'), ('Y3', 'Y4')])  \n",
        "print(BicScore(df_bin).score(model))\n",
        "\n",
        "model = BayesianModel([('Y', 'x'), ('Y', 'Z'), ('Z', 'x'), ('Y', 'Y3'), ('Y2', 'Y3'), ('Y3', 'Y4')])  \n",
        "print(BicScore(df_bin).score(model))"
      ],
      "metadata": {
        "colab": {
          "base_uri": "https://localhost:8080/"
        },
        "id": "rkPwa_tBU9s0",
        "outputId": "3755a763-2b13-46e1-a2f7-d3780583e99a"
      },
      "execution_count": null,
      "outputs": [
        {
          "output_type": "stream",
          "name": "stdout",
          "text": [
            "-11331.423847464346\n",
            "-11331.423847464346\n",
            "-11331.423847464346\n",
            "-11331.423847464346\n",
            "-11331.423847464348\n",
            "-11331.423847464348\n"
          ]
        }
      ]
    },
    {
      "cell_type": "markdown",
      "source": [
        "差がでない、、、"
      ],
      "metadata": {
        "id": "tO6gIh2V05g-"
      }
    },
    {
      "cell_type": "code",
      "source": [
        "# pgmpyでPCアルゴリズムの実行\n",
        "\n",
        "skel, seperating_sets = est.estimate_skeleton(significance_level=0.05)\n",
        "print(\"Undirected edges: \", skel.edges())\n",
        "\n",
        "pdag = est.skeleton_to_pdag(skel, seperating_sets)\n",
        "print(\"PDAG edges:       \", pdag.edges())\n",
        "\n",
        "model = est.pdag_to_dag(pdag)\n",
        "print(\"DAG edges:        \", model.edges())"
      ],
      "metadata": {
        "colab": {
          "base_uri": "https://localhost:8080/"
        },
        "id": "i3zDHhtrU9yI",
        "outputId": "fcdc599c-0efb-45ff-8ca5-0421c7012e70"
      },
      "execution_count": null,
      "outputs": [
        {
          "output_type": "stream",
          "name": "stderr",
          "text": [
            "/usr/local/lib/python3.8/dist-packages/pgmpy/estimators/CITests.py:112: FutureWarning: Using the level keyword in DataFrame and Series aggregations is deprecated and will be removed in a future version. Use groupby instead. df.sum(level=1) should use df.groupby(level=1).sum().\n",
            "  XZ_state_counts = XYZ_state_counts.sum(axis=1, level=Z)  # marginalize out Y\n"
          ]
        },
        {
          "output_type": "stream",
          "name": "stdout",
          "text": [
            "Undirected edges:  [('x', 'Z'), ('x', 'Y'), ('Z', 'Y'), ('Y', 'Y3'), ('Y2', 'Y3'), ('Y3', 'Y4')]\n",
            "PDAG edges:        [('x', 'Z'), ('x', 'Y'), ('Z', 'x'), ('Z', 'Y'), ('Y', 'x'), ('Y', 'Z'), ('Y', 'Y3'), ('Y2', 'Y3'), ('Y3', 'Y4'), ('Y4', 'Y3')]\n",
            "DAG edges:         [('Z', 'x'), ('Y', 'Y3'), ('Y', 'x'), ('Y', 'Z'), ('Y2', 'Y3'), ('Y3', 'Y4')]\n"
          ]
        }
      ]
    },
    {
      "cell_type": "markdown",
      "source": [
        "・たった3行、、、因果ちがうけど"
      ],
      "metadata": {
        "id": "qWJPFqbd3EFW"
      }
    },
    {
      "cell_type": "code",
      "source": [],
      "metadata": {
        "id": "EEFlpYGAU9zz"
      },
      "execution_count": null,
      "outputs": []
    },
    {
      "cell_type": "markdown",
      "source": [
        "## ベイジアンネットワークで推論"
      ],
      "metadata": {
        "id": "h1XJCF6m7q8o"
      }
    },
    {
      "cell_type": "code",
      "source": [
        "from pgmpy.models import BayesianModel\n",
        "from pgmpy.inference import VariableElimination\n",
        "\n",
        "# モデルを構築\n",
        "model = BayesianModel([('x', 'Z'), ('x', 'Y'), ('Z', 'Y'),\n",
        "                       ('Y', 'Y3'), ('Y2', 'Y3'), ('Y3', 'Y4')])\n",
        "# モデルにデータを与える\n",
        "model.fit(df_bin)\n",
        "\n",
        "# 変数消去アルゴリズムで推論\n",
        "infer = VariableElimination(model)\n",
        "obserbed_data = {'Z': 0, 'Y3': 3}  # 観測できているデータの一例\n",
        "x_dist = infer.query(['x'], evidence=obserbed_data)\n",
        "print(x_dist)\n",
        "print(\"=====================\")\n",
        "obserbed_data = {'Z': 1, 'Y3': 3}  # 観測できているデータの一例\n",
        "x_dist = infer.query(['x'], evidence=obserbed_data)\n",
        "print(x_dist)\n",
        "print(\"=====================\")\n",
        "obserbed_data = {'Z': 1, 'Y3': 5}  # 観測できているデータの一例\n",
        "x_dist = infer.query(['x'], evidence=obserbed_data)\n",
        "print(x_dist)\n"
      ],
      "metadata": {
        "colab": {
          "base_uri": "https://localhost:8080/"
        },
        "id": "z1MPIztbU91q",
        "outputId": "d8a7377b-1cbb-4130-9d73-9731ba086f7f"
      },
      "execution_count": null,
      "outputs": [
        {
          "output_type": "stream",
          "name": "stderr",
          "text": [
            "Finding Elimination Order: : 100%|██████████| 3/3 [00:00<00:00, 589.39it/s]\n",
            "Eliminating: Y4: 100%|██████████| 3/3 [00:00<00:00, 520.26it/s]\n"
          ]
        },
        {
          "output_type": "stream",
          "name": "stdout",
          "text": [
            "+------+----------+\n",
            "| x    |   phi(x) |\n",
            "+======+==========+\n",
            "| x(1) |   0.3395 |\n",
            "+------+----------+\n",
            "| x(2) |   0.2359 |\n",
            "+------+----------+\n",
            "| x(3) |   0.2062 |\n",
            "+------+----------+\n",
            "| x(4) |   0.1333 |\n",
            "+------+----------+\n",
            "| x(5) |   0.0851 |\n",
            "+------+----------+\n",
            "=====================\n"
          ]
        },
        {
          "output_type": "stream",
          "name": "stderr",
          "text": [
            "Finding Elimination Order: : 100%|██████████| 3/3 [00:00<00:00, 1840.41it/s]\n",
            "Eliminating: Y4: 100%|██████████| 3/3 [00:00<00:00, 638.18it/s]\n"
          ]
        },
        {
          "output_type": "stream",
          "name": "stdout",
          "text": [
            "+------+----------+\n",
            "| x    |   phi(x) |\n",
            "+======+==========+\n",
            "| x(1) |   0.0916 |\n",
            "+------+----------+\n",
            "| x(2) |   0.1279 |\n",
            "+------+----------+\n",
            "| x(3) |   0.2677 |\n",
            "+------+----------+\n",
            "| x(4) |   0.2644 |\n",
            "+------+----------+\n",
            "| x(5) |   0.2483 |\n",
            "+------+----------+\n",
            "=====================\n"
          ]
        },
        {
          "output_type": "stream",
          "name": "stderr",
          "text": [
            "Finding Elimination Order: : 100%|██████████| 3/3 [00:00<00:00, 1155.77it/s]\n",
            "Eliminating: Y4: 100%|██████████| 3/3 [00:00<00:00, 550.17it/s]"
          ]
        },
        {
          "output_type": "stream",
          "name": "stdout",
          "text": [
            "+------+----------+\n",
            "| x    |   phi(x) |\n",
            "+======+==========+\n",
            "| x(1) |   0.0010 |\n",
            "+------+----------+\n",
            "| x(2) |   0.0039 |\n",
            "+------+----------+\n",
            "| x(3) |   0.0553 |\n",
            "+------+----------+\n",
            "| x(4) |   0.2365 |\n",
            "+------+----------+\n",
            "| x(5) |   0.7033 |\n",
            "+------+----------+\n"
          ]
        },
        {
          "output_type": "stream",
          "name": "stderr",
          "text": [
            "\n"
          ]
        }
      ]
    },
    {
      "cell_type": "code",
      "source": [],
      "metadata": {
        "id": "1Ngdej8dU93I"
      },
      "execution_count": null,
      "outputs": []
    },
    {
      "cell_type": "code",
      "source": [],
      "metadata": {
        "id": "Xpkd2-0GU94q"
      },
      "execution_count": null,
      "outputs": []
    },
    {
      "cell_type": "code",
      "source": [],
      "metadata": {
        "id": "Rvn4JyCXU966"
      },
      "execution_count": null,
      "outputs": []
    },
    {
      "cell_type": "code",
      "source": [],
      "metadata": {
        "id": "hHJr1iC6U99k"
      },
      "execution_count": null,
      "outputs": []
    },
    {
      "cell_type": "code",
      "source": [],
      "metadata": {
        "id": "n5n2m_qYU-AE"
      },
      "execution_count": null,
      "outputs": []
    },
    {
      "cell_type": "code",
      "source": [],
      "metadata": {
        "id": "GLBi-rhNSY7G"
      },
      "execution_count": null,
      "outputs": []
    },
    {
      "cell_type": "code",
      "source": [],
      "metadata": {
        "id": "7o63gZ8CL-bm"
      },
      "execution_count": null,
      "outputs": []
    },
    {
      "cell_type": "code",
      "source": [],
      "metadata": {
        "id": "HLYemsiDL-dM"
      },
      "execution_count": null,
      "outputs": []
    },
    {
      "cell_type": "code",
      "source": [],
      "metadata": {
        "id": "Dmg_akF0L-ew"
      },
      "execution_count": null,
      "outputs": []
    },
    {
      "cell_type": "code",
      "source": [],
      "metadata": {
        "id": "JyBqeLJ4L-gT"
      },
      "execution_count": null,
      "outputs": []
    },
    {
      "cell_type": "code",
      "source": [],
      "metadata": {
        "id": "LcXyAY2aL-h6"
      },
      "execution_count": null,
      "outputs": []
    }
  ]
}