{
  "nbformat": 4,
  "nbformat_minor": 0,
  "metadata": {
    "colab": {
      "provenance": [],
      "authorship_tag": "ABX9TyOFI3fn5nK5O4XFF3RTku8/",
      "include_colab_link": true
    },
    "kernelspec": {
      "name": "python3",
      "display_name": "Python 3"
    },
    "language_info": {
      "name": "python"
    }
  },
  "cells": [
    {
      "cell_type": "markdown",
      "metadata": {
        "id": "view-in-github",
        "colab_type": "text"
      },
      "source": [
        "<a href=\"https://colab.research.google.com/github/wakamatsuikuma/MEMO_causal_analysis_by_python/blob/main/6_3_LiNGAM%E3%81%AB%E3%82%88%E3%82%8B%E5%9B%A0%E6%9E%9C%E6%8E%A2%E7%B4%A2%E3%81%AE%E5%AE%9F%E8%A3%85.ipynb\" target=\"_parent\"><img src=\"https://colab.research.google.com/assets/colab-badge.svg\" alt=\"Open In Colab\"/></a>"
      ]
    },
    {
      "cell_type": "markdown",
      "source": [
        "【メモ】  \n",
        "以下の①線形な構造方程式、 ②独立成分分析をベースとして解く  \n",
        "\n",
        "以下の4つの適用条件がある  \n",
        "かなり強い前提があることが窺える  \n",
        "(参考:http://webmaking.rei-farms.jp/webmaking/python/5878/)  \n",
        "1. Liner：線形な構造方程式で示せる  \n",
        "2. Non-Gaussian:構造方程式の誤差項が非ガウス分布である  \n",
        "3. Acyclic：非循環な因果グラフ(DAG)で表せる\n",
        "4. 構造方程式：未観測な要因が存在しない\n",
        "\n",
        "・線形な構造方程式について  \n",
        "線形な構造方程式であり、誤差項が非ガウス(ガウス分布に従わない)という前提の基で因果探索する。  \n",
        "観測データ：x  \n",
        "変数間の係数：B  \n",
        "誤差項:e_ica  \n",
        "とした時に、  \n",
        "ｘ ＝ B * x + e  \n",
        "となる**Bを求める**。\n",
        "またAcyclicも前提としているので、Bは対角成分が0かつ下三角行列となる(Bの制限)。  \n",
        "さらに構造方程式をxについて解くと、 x = ( I - B )_inv * e_ica (Iは単位行列)  \n",
        "  \n",
        "・独立成分分析  \n",
        "変数間の関係を独立にする（データがガウス分布に従っている場合は、相関0=独立。データが非ガウスの場合は、相関0≠独立。）  \n",
        "独立成分分析を実施することで、  \n",
        "x = A_ica * x_ica と分解できる。  \n",
        "これは  x = A_ica * e_ica  と考えることができる。  \n",
        "したがって、LiNGAMでは  \n",
        "**\"観測したデータxに対して、独立成分分析を実施すること\"**  \n",
        "で構造方程式を求めることができる。  \n",
        "ただし、Bの制限よりA_ica_invは対角成分1の下三角行列となるように**行の大きさ**と**行の順番**を調整する必要がある。  \n",
        "\n",
        "・アルゴリズムの概要  \n",
        "① データxを独立成分分析によりA_ica * e_icaに分解して、A_ica_invを求める  \n",
        "② A_ica_invの対角成分が1となるように、行の順番の並び替え(理論・実装共に複雑なので理解は後回し)  \n",
        "並び替えの基準：  \n",
        "\"対角成分が1\"  \n",
        "↓  \n",
        "\"対角成分が非ゼロ\"  \n",
        "↓  \n",
        "\"対角成分の絶対値の最大化\"  \n",
        "↓  \n",
        "\"絶対値行列の逆数行列の対角成分の和の最小化\"  \n",
        "で解く。  \n",
        "③ A_ica_invの対角成分が1になるように、各行を割り算  \n",
        "④ Bを求める(対角成分は0なる)  \n",
        "⑤ Bが下三角行列にするように手続き (変数間のパスがわかる) \n",
        "1.  上側成分が0になるはずの数だけ、絶対値が小さい成分を0にする\n",
        "2.  並び替えて下三角行列になるか確認\n",
        "3.  ならない場合は、\"さらに1つ絶対値の小さい成分を0→並び替えて下三角行列になるか確認\"を繰り返す  \n",
        "  \n",
        "⑥ 求めたBから判明したパスの数の分だけ回帰モデルを構築して因果の大きさを求める(ゼロ化操作した上での係数を求めたいから！！)\n",
        "\n",
        "\n"
      ],
      "metadata": {
        "id": "zMlJW6k0TwzA"
      }
    },
    {
      "cell_type": "markdown",
      "source": [
        "# 設定"
      ],
      "metadata": {
        "id": "FbHXfsJyT3VI"
      }
    },
    {
      "cell_type": "code",
      "source": [
        "# 乱数のシードを固定\n",
        "import random\n",
        "import numpy as np\n",
        "\n",
        "random.seed(1234)\n",
        "np.random.seed(1234)"
      ],
      "metadata": {
        "id": "I3sRfxg5T3z5"
      },
      "execution_count": 1,
      "outputs": []
    },
    {
      "cell_type": "code",
      "execution_count": 2,
      "metadata": {
        "id": "dTFUBWbfM9u-"
      },
      "outputs": [],
      "source": [
        "# 使用するパッケージ(ライブラリと関数)　を定義\n",
        "import pandas as pd"
      ]
    },
    {
      "cell_type": "code",
      "source": [],
      "metadata": {
        "id": "dK5BIpVjT4nb"
      },
      "execution_count": 2,
      "outputs": []
    },
    {
      "cell_type": "markdown",
      "source": [
        "# データ生成"
      ],
      "metadata": {
        "id": "iVQiuKE4T4_Q"
      }
    },
    {
      "cell_type": "markdown",
      "source": [
        "## モデル\n",
        "x1 = 3×x2 + ex1\n",
        "\n",
        "x2 = ex2\n",
        "\n",
        "x3 = 2×x1 + 4×x2 + ex3\n",
        " "
      ],
      "metadata": {
        "id": "5JU33hq2T5VM"
      }
    },
    {
      "cell_type": "code",
      "source": [
        "# データ数\n",
        "num_data = 200\n",
        "\n",
        "# 非ガウスのノイズ\n",
        "ex1 = 2.0*(np.random.rand(num_data)-0.5)\n",
        "ex2 = 2.0*(np.random.rand(num_data) -0.5)\n",
        "ex3 = 2.0*(np.random.rand(num_data) -0.5)"
      ],
      "metadata": {
        "id": "99zb8knDUwNU"
      },
      "execution_count": 3,
      "outputs": []
    },
    {
      "cell_type": "code",
      "source": [
        "#　ノイズの分布確認→非ガウスを確認\n",
        "import matplotlib.pyplot as plt\n",
        "\n",
        "fig = plt.figure(figsize=(4, 4))\n",
        "ax1 = plt.subplot(1, 1, 1)\n",
        "\n",
        "ax1.hist(ex1)\n",
        "\n",
        "plt.tight_layout()"
      ],
      "metadata": {
        "colab": {
          "base_uri": "https://localhost:8080/",
          "height": 297
        },
        "id": "9Ac4wnuSUwVv",
        "outputId": "bd83113b-9bda-4b61-a4a4-0bfa661de186"
      },
      "execution_count": 4,
      "outputs": [
        {
          "output_type": "display_data",
          "data": {
            "text/plain": [
              "<Figure size 288x288 with 1 Axes>"
            ],
            "image/png": "[encoded data removed]"
          },
          "metadata": {
            "needs_background": "light"
          }
        }
      ]
    },
    {
      "cell_type": "code",
      "source": [
        "# データ生成\n",
        "ｘ２ = ex2\n",
        "x1 = 3*x2 + ex1\n",
        "x3 = 2*x1 + 4*x2 + ex3\n",
        "\n",
        "# 表にまとめる\n",
        "df = pd.DataFrame({\"x1\":x1, \"x2\":x2, \"x3\":x3})\n",
        "display(df.head())\n",
        "print(df.shape)"
      ],
      "metadata": {
        "colab": {
          "base_uri": "https://localhost:8080/",
          "height": 223
        },
        "id": "QxzvGUJrUwYC",
        "outputId": "9b92adf9-de3f-41d0-96fd-4ee90d214d8e"
      },
      "execution_count": 9,
      "outputs": [
        {
          "output_type": "display_data",
          "data": {
            "text/plain": [
              "         x1        x2        x3\n",
              "0  2.257272  0.958078  8.776842\n",
              "1  2.531611  0.762464  8.561263\n",
              "2  0.641547  0.255364  1.341902\n",
              "3  3.153636  0.860973  9.322791\n",
              "4  1.908691  0.449580  5.776675"
            ],
            "text/html": [
              "\n",
              "  <div id=\"df-99f9fafa-9f4e-43a0-8da3-3aa0b1eaf743\">\n",
              "    <div class=\"colab-df-container\">\n",
              "      <div>\n",
              "<style scoped>\n",
              "    .dataframe tbody tr th:only-of-type {\n",
              "        vertical-align: middle;\n",
              "    }\n",
              "\n",
              "    .dataframe tbody tr th {\n",
              "        vertical-align: top;\n",
              "    }\n",
              "\n",
              "    .dataframe thead th {\n",
              "        text-align: right;\n",
              "    }\n",
              "</style>\n",
              "<table border=\"1\" class=\"dataframe\">\n",
              "  <thead>\n",
              "    <tr style=\"text-align: right;\">\n",
              "      <th></th>\n",
              "      <th>x1</th>\n",
              "      <th>x2</th>\n",
              "      <th>x3</th>\n",
              "    </tr>\n",
              "  </thead>\n",
              "  <tbody>\n",
              "    <tr>\n",
              "      <th>0</th>\n",
              "      <td>2.257272</td>\n",
              "      <td>0.958078</td>\n",
              "      <td>8.776842</td>\n",
              "    </tr>\n",
              "    <tr>\n",
              "      <th>1</th>\n",
              "      <td>2.531611</td>\n",
              "      <td>0.762464</td>\n",
              "      <td>8.561263</td>\n",
              "    </tr>\n",
              "    <tr>\n",
              "      <th>2</th>\n",
              "      <td>0.641547</td>\n",
              "      <td>0.255364</td>\n",
              "      <td>1.341902</td>\n",
              "    </tr>\n",
              "    <tr>\n",
              "      <th>3</th>\n",
              "      <td>3.153636</td>\n",
              "      <td>0.860973</td>\n",
              "      <td>9.322791</td>\n",
              "    </tr>\n",
              "    <tr>\n",
              "      <th>4</th>\n",
              "      <td>1.908691</td>\n",
              "      <td>0.449580</td>\n",
              "      <td>5.776675</td>\n",
              "    </tr>\n",
              "  </tbody>\n",
              "</table>\n",
              "</div>\n",
              "      <button class=\"colab-df-convert\" onclick=\"convertToInteractive('df-99f9fafa-9f4e-43a0-8da3-3aa0b1eaf743')\"\n",
              "              title=\"Convert this dataframe to an interactive table.\"\n",
              "              style=\"display:none;\">\n",
              "        \n",
              "  <svg xmlns=\"http://www.w3.org/2000/svg\" height=\"24px\"viewBox=\"0 0 24 24\"\n",
              "       width=\"24px\">\n",
              "    <path d=\"M0 0h24v24H0V0z\" fill=\"none\"/>\n",
              "    <path d=\"M18.56 5.44l.94 2.06.94-2.06 2.06-.94-2.06-.94-.94-2.06-.94 2.06-2.06.94zm-11 1L8.5 8.5l.94-2.06 2.06-.94-2.06-.94L8.5 2.5l-.94 2.06-2.06.94zm10 10l.94 2.06.94-2.06 2.06-.94-2.06-.94-.94-2.06-.94 2.06-2.06.94z\"/><path d=\"M17.41 7.96l-1.37-1.37c-.4-.4-.92-.59-1.43-.59-.52 0-1.04.2-1.43.59L10.3 9.45l-7.72 7.72c-.78.78-.78 2.05 0 2.83L4 21.41c.39.39.9.59 1.41.59.51 0 1.02-.2 1.41-.59l7.78-7.78 2.81-2.81c.8-.78.8-2.07 0-2.86zM5.41 20L4 18.59l7.72-7.72 1.47 1.35L5.41 20z\"/>\n",
              "  </svg>\n",
              "      </button>\n",
              "      \n",
              "  <style>\n",
              "    .colab-df-container {\n",
              "      display:flex;\n",
              "      flex-wrap:wrap;\n",
              "      gap: 12px;\n",
              "    }\n",
              "\n",
              "    .colab-df-convert {\n",
              "      background-color: #E8F0FE;\n",
              "      border: none;\n",
              "      border-radius: 50%;\n",
              "      cursor: pointer;\n",
              "      display: none;\n",
              "      fill: #1967D2;\n",
              "      height: 32px;\n",
              "      padding: 0 0 0 0;\n",
              "      width: 32px;\n",
              "    }\n",
              "\n",
              "    .colab-df-convert:hover {\n",
              "      background-color: #E2EBFA;\n",
              "      box-shadow: 0px 1px 2px rgba(60, 64, 67, 0.3), 0px 1px 3px 1px rgba(60, 64, 67, 0.15);\n",
              "      fill: #174EA6;\n",
              "    }\n",
              "\n",
              "    [theme=dark] .colab-df-convert {\n",
              "      background-color: #3B4455;\n",
              "      fill: #D2E3FC;\n",
              "    }\n",
              "\n",
              "    [theme=dark] .colab-df-convert:hover {\n",
              "      background-color: #434B5C;\n",
              "      box-shadow: 0px 1px 3px 1px rgba(0, 0, 0, 0.15);\n",
              "      filter: drop-shadow(0px 1px 2px rgba(0, 0, 0, 0.3));\n",
              "      fill: #FFFFFF;\n",
              "    }\n",
              "  </style>\n",
              "\n",
              "      <script>\n",
              "        const buttonEl =\n",
              "          document.querySelector('#df-99f9fafa-9f4e-43a0-8da3-3aa0b1eaf743 button.colab-df-convert');\n",
              "        buttonEl.style.display =\n",
              "          google.colab.kernel.accessAllowed ? 'block' : 'none';\n",
              "\n",
              "        async function convertToInteractive(key) {\n",
              "          const element = document.querySelector('#df-99f9fafa-9f4e-43a0-8da3-3aa0b1eaf743');\n",
              "          const dataTable =\n",
              "            await google.colab.kernel.invokeFunction('convertToInteractive',\n",
              "                                                     [key], {});\n",
              "          if (!dataTable) return;\n",
              "\n",
              "          const docLinkHtml = 'Like what you see? Visit the ' +\n",
              "            '<a target=\"_blank\" href=https://colab.research.google.com/notebooks/data_table.ipynb>data table notebook</a>'\n",
              "            + ' to learn more about interactive tables.';\n",
              "          element.innerHTML = '';\n",
              "          dataTable['output_type'] = 'display_data';\n",
              "          await google.colab.output.renderOutput(dataTable, element);\n",
              "          const docLink = document.createElement('div');\n",
              "          docLink.innerHTML = docLinkHtml;\n",
              "          element.appendChild(docLink);\n",
              "        }\n",
              "      </script>\n",
              "    </div>\n",
              "  </div>\n",
              "  "
            ]
          },
          "metadata": {}
        },
        {
          "output_type": "stream",
          "name": "stdout",
          "text": [
            "(200, 3)\n"
          ]
        }
      ]
    },
    {
      "cell_type": "code",
      "source": [],
      "metadata": {
        "id": "DlG_xVOGJ8V9"
      },
      "execution_count": null,
      "outputs": []
    },
    {
      "cell_type": "markdown",
      "source": [
        "# ①独立成分分析よりA_ica_invを求める"
      ],
      "metadata": {
        "id": "Hm7WZelpbjbV"
      }
    },
    {
      "cell_type": "code",
      "source": [
        "# 独立成分はscikit-learnの関数を使用\n",
        "from sklearn.decomposition import FastICA\n",
        "\n",
        "ica = FastICA(random_state=1234).fit(df)"
      ],
      "metadata": {
        "id": "wfuyaU4yUwZ1"
      },
      "execution_count": 12,
      "outputs": []
    },
    {
      "cell_type": "code",
      "source": [
        "# ICAで求めた行列A\n",
        "A_ica = ica.mixing_\n",
        "print(\"A_icaのshape:\", A_ica.shape)"
      ],
      "metadata": {
        "id": "xioOXDaLUwca",
        "colab": {
          "base_uri": "https://localhost:8080/"
        },
        "outputId": "d913f147-40c8-4a51-9f74-9c68caf60e0b"
      },
      "execution_count": 13,
      "outputs": [
        {
          "output_type": "stream",
          "name": "stdout",
          "text": [
            "A_icaのshape: (3, 3)\n"
          ]
        }
      ]
    },
    {
      "cell_type": "code",
      "source": [
        "# 行列Aの逆行列を求める\n",
        "A_ica_inv = np.linalg.pinv(A_ica)\n",
        "print(A_ica_inv)"
      ],
      "metadata": {
        "id": "-y1sxUoYUweq",
        "colab": {
          "base_uri": "https://localhost:8080/"
        },
        "outputId": "3ccce8b2-8491-4464-c7f9-c4ebeb7d11c7"
      },
      "execution_count": 14,
      "outputs": [
        {
          "output_type": "stream",
          "name": "stdout",
          "text": [
            "[[-0.23203107 -0.4635971   0.1154553 ]\n",
            " [-0.02158245  0.12961253  0.00557934]\n",
            " [-0.11326384  0.40437635 -0.00563091]]\n"
          ]
        }
      ]
    },
    {
      "cell_type": "code",
      "source": [],
      "metadata": {
        "id": "cLcYgHVIJ7pe"
      },
      "execution_count": null,
      "outputs": []
    },
    {
      "cell_type": "markdown",
      "source": [
        "# ②A_ica_invの対角成分が1となるように、行の順番の並び替え"
      ],
      "metadata": {
        "id": "4OCOsAm0GmlP"
      }
    },
    {
      "cell_type": "code",
      "source": [
        "# 実行するためのパッケージをインストールしてインポート\n",
        "!pip install munkres\n",
        "from munkres import Munkres\n",
        "from copy import deepcopy"
      ],
      "metadata": {
        "colab": {
          "base_uri": "https://localhost:8080/"
        },
        "id": "DFoq9J8jIXxq",
        "outputId": "97b298bb-554a-4e03-8ab0-1b5e11dba51a"
      },
      "execution_count": 16,
      "outputs": [
        {
          "output_type": "stream",
          "name": "stdout",
          "text": [
            "Looking in indexes: https://pypi.org/simple, https://us-python.pkg.dev/colab-wheels/public/simple/\n",
            "Collecting munkres\n",
            "  Downloading munkres-1.1.4-py2.py3-none-any.whl (7.0 kB)\n",
            "Installing collected packages: munkres\n",
            "Successfully installed munkres-1.1.4\n"
          ]
        }
      ]
    },
    {
      "cell_type": "code",
      "source": [
        "# 実装の参考\n",
        "# [5] Qiita：LiNGAMモデルの推定方法について\n",
        "# https://qiita.com/m__k/items/bd87c063a7496897ba7c\n",
        "\n",
        "# ①「行の順番を変換」→対角成分の絶対値を最大にする\n",
        "# （元のA^-1の対角成分は必ず0ではないので）\n",
        "\n",
        "# 絶対値の逆数にして対角成分の和を最小にする問題に置き換える\n",
        "A_ica_inv_small = 1 / np.abs(A_ica_inv)\n",
        "\n",
        "# 対角成分の和を最小にする行の入れ替え順を求める\n",
        "m = Munkres()  # ハンガリアン法\n",
        "ixs = np.vstack(m.compute(deepcopy(A_ica_inv_small)))\n",
        "\n",
        "# 求めた順番で変換\n",
        "ixs = ixs[np.argsort(ixs[:, 0]), :]\n",
        "ixs_perm = ixs[:, 1]\n",
        "A_ica_inv_perm = np.zeros_like(A_ica_inv)\n",
        "A_ica_inv_perm[ixs_perm] = A_ica_inv\n",
        "print(A_ica_inv_perm)\n",
        "\n",
        "# 並び替わった順番\n",
        "print(ixs)"
      ],
      "metadata": {
        "colab": {
          "base_uri": "https://localhost:8080/"
        },
        "id": "G0G6KdDdIX0M",
        "outputId": "0b1f8e06-9710-4ccb-d96e-3080354a80b4"
      },
      "execution_count": 17,
      "outputs": [
        {
          "output_type": "stream",
          "name": "stdout",
          "text": [
            "[[-0.11326384  0.40437635 -0.00563091]\n",
            " [-0.02158245  0.12961253  0.00557934]\n",
            " [-0.23203107 -0.4635971   0.1154553 ]]\n",
            "[[0 2]\n",
            " [1 1]\n",
            " [2 0]]\n"
          ]
        }
      ]
    },
    {
      "cell_type": "code",
      "source": [],
      "metadata": {
        "id": "SXiRoHluIX4x"
      },
      "execution_count": null,
      "outputs": []
    },
    {
      "cell_type": "markdown",
      "source": [
        "# ③A_ica_invの対角成分が1になるように、各行を割り算"
      ],
      "metadata": {
        "id": "Zcu0zmRaGm-4"
      }
    },
    {
      "cell_type": "code",
      "source": [
        "# 対角成分を取り出す\n",
        "D = np.diag(A_ica_inv_perm)[:, np.newaxis]\n",
        "D"
      ],
      "metadata": {
        "colab": {
          "base_uri": "https://localhost:8080/"
        },
        "id": "yu3RIZmwKAwW",
        "outputId": "f2a2578b-20a7-4087-89ed-b6fb6f462b01"
      },
      "execution_count": 20,
      "outputs": [
        {
          "output_type": "execute_result",
          "data": {
            "text/plain": [
              "array([[-0.11326384],\n",
              "       [ 0.12961253],\n",
              "       [ 0.1154553 ]])"
            ]
          },
          "metadata": {},
          "execution_count": 20
        }
      ]
    },
    {
      "cell_type": "code",
      "source": [
        "# 割り算\n",
        "A_ica_inv_perm_D = A_ica_inv_perm / D\n",
        "A_ica_inv_perm_D"
      ],
      "metadata": {
        "colab": {
          "base_uri": "https://localhost:8080/"
        },
        "id": "7zxJQi0xKAy5",
        "outputId": "5c30f87e-3215-4c00-94f8-019a19abb02e"
      },
      "execution_count": 22,
      "outputs": [
        {
          "output_type": "execute_result",
          "data": {
            "text/plain": [
              "array([[ 1.        , -3.57021564,  0.04971498],\n",
              "       [-0.16651518,  1.        ,  0.0430463 ],\n",
              "       [-2.00970483, -4.01538182,  1.        ]])"
            ]
          },
          "metadata": {},
          "execution_count": 22
        }
      ]
    },
    {
      "cell_type": "code",
      "source": [],
      "metadata": {
        "id": "7EjzzowbKA3R"
      },
      "execution_count": null,
      "outputs": []
    },
    {
      "cell_type": "markdown",
      "source": [
        "# ④Bを求める(対角成分は0なる)"
      ],
      "metadata": {
        "id": "EmnLJcYmGnBk"
      }
    },
    {
      "cell_type": "code",
      "source": [
        "# B = I - A_ica_inv\n",
        "B_est = np.eye(len(df.columns)) - A_ica_inv_perm_D\n",
        "B_est"
      ],
      "metadata": {
        "colab": {
          "base_uri": "https://localhost:8080/"
        },
        "id": "2aVRhju8K4P5",
        "outputId": "bf1e8595-4257-4dc7-c7d5-2af73dc4a711"
      },
      "execution_count": 27,
      "outputs": [
        {
          "output_type": "execute_result",
          "data": {
            "text/plain": [
              "array([[ 0.        ,  3.57021564, -0.04971498],\n",
              "       [ 0.16651518,  0.        , -0.0430463 ],\n",
              "       [ 2.00970483,  4.01538182,  0.        ]])"
            ]
          },
          "metadata": {},
          "execution_count": 27
        }
      ]
    },
    {
      "cell_type": "code",
      "source": [],
      "metadata": {
        "id": "wOweBBy3K4np"
      },
      "execution_count": null,
      "outputs": []
    },
    {
      "cell_type": "markdown",
      "source": [
        "# ⑤Bが下三角行列にするように手続き(パスがわかる)"
      ],
      "metadata": {
        "id": "l0PHk2sFGnFR"
      }
    },
    {
      "cell_type": "code",
      "source": [
        "# 1. 上側成分が0になるはずの数だけ、絶対値が小さい成分を0にする\n",
        "# 2. 並び替えて下三角行列になるか確認\n",
        "# 3. ならない場合は、\"さらに1つ絶対値の小さい成分を0→並び替えて下三角行列になるか確認\"を繰り返す\n",
        "\n",
        "\n",
        "# 実装の参考\n",
        "# [5] Qiita：LiNGAMモデルの推定方法について\n",
        "# https://qiita.com/m__k/items/bd87c063a7496897ba7c\n",
        "\n",
        "\n",
        "# 関数を定義\n",
        "# 2. 並び替えて下三角行列になるか確認\n",
        "# 3. ならない場合は、\"さらに1つ絶対値の小さい成分を0→並び替えて下三角行列になるか確認\"を繰り返す\n",
        "def _slttestperm(b_i):\n",
        "# b_iの行を並び替えて下三角行列にできるかどうかチェック\n",
        "    n = b_i.shape[0]\n",
        "    remnodes = np.arange(n)\n",
        "    b_rem = deepcopy(b_i)\n",
        "    p = list() \n",
        "\n",
        "    for i in range(n):\n",
        "        # 成分が全て0である行番号のリスト\n",
        "        ixs = np.where(np.sum(np.abs(b_rem), axis=1) < 1e-12)[0]\n",
        "\n",
        "        if len(ixs) == 0:\n",
        "            return None\n",
        "        else:\n",
        "            ix = ixs[0]\n",
        "            p.append(remnodes[ix])\n",
        "\n",
        "            #　成分が全て0である行を削除\n",
        "            remnodes = np.hstack((remnodes[:ix], remnodes[(ix + 1):]))\n",
        "            ixs = np.hstack((np.arange(ix), np.arange(ix + 1, len(b_rem))))\n",
        "            b_rem = b_rem[ixs, :]\n",
        "            b_rem = b_rem[:, ixs]\n",
        "\n",
        "    return np.array(p)\n",
        "\n",
        "\n",
        "b = B_est\n",
        "n = b.shape[0]\n",
        "assert(b.shape == (n, n))\n",
        "\n",
        "ixs = np.argsort(np.abs(b).ravel())\n",
        "\n",
        "for i in range(int(n * (n + 1) / 2) - 1, (n * n) - 1):\n",
        "    b_i = deepcopy(b)\n",
        "    b_i.ravel()[ixs[:i]] = 0 # 1. 上側成分が0になるはずの数だけ、絶対値が小さい成分を0にする\n",
        "    ixs_perm = _slttestperm(b_i)\n",
        "    if ixs_perm is not None:\n",
        "        b_opt = deepcopy(b)\n",
        "        b_opt = b_opt[ixs_perm, :]\n",
        "        b_opt = b_opt[:, ixs_perm]\n",
        "        break\n",
        "b_csl = np.tril(b_opt, -1)\n",
        "b_csl[ixs_perm, :] = deepcopy(b_csl)\n",
        "b_csl[:, ixs_perm] = deepcopy(b_csl)\n",
        "\n",
        "B_est1 = b_csl\n",
        "print(B_est1)\n",
        "\n"
      ],
      "metadata": {
        "colab": {
          "base_uri": "https://localhost:8080/"
        },
        "id": "kyPeJdEaIPWs",
        "outputId": "d21dfdcc-7021-4dfd-e3f5-b5b48618b5b4"
      },
      "execution_count": 28,
      "outputs": [
        {
          "output_type": "stream",
          "name": "stdout",
          "text": [
            "[[0.         3.57021564 0.        ]\n",
            " [0.         0.         0.        ]\n",
            " [2.00970483 4.01538182 0.        ]]\n"
          ]
        }
      ]
    },
    {
      "cell_type": "code",
      "source": [],
      "metadata": {
        "id": "5NeY9QMgIPXu"
      },
      "execution_count": null,
      "outputs": []
    },
    {
      "cell_type": "markdown",
      "source": [
        "# ⑥求めたBから判明したパスの数の分だけ回帰モデルを構築して因果の大きさを求める"
      ],
      "metadata": {
        "id": "G_o7vLrRGnLN"
      }
    },
    {
      "cell_type": "code",
      "source": [
        "# scikit-learnから線形回帰をimport\n",
        "from sklearn.linear_model import LinearRegression\n",
        "\n",
        "# 説明変数\n",
        "X1 = df[[\"x2\"]]\n",
        "X3 = df[[\"x1\", \"x2\"]]\n",
        "\n",
        "# 被説明変数（目的変数）\n",
        "# df[\"x1\"]\n",
        "# df[\"x3\"]\n",
        "\n",
        "# 回帰の実施\n",
        "reg1 = LinearRegression().fit(X1, df[\"x1\"]) # x2→x1のパスの回帰\n",
        "reg3 = LinearRegression().fit(X3, df[\"x3\"]) # x1とx2→x3のパスの回帰\n",
        "\n",
        "# 回帰した結果の係数を出力\n",
        "print(\"係数：\", reg1.coef_)\n",
        "print(\"係数：\", reg3.coef_)"
      ],
      "metadata": {
        "id": "VHAhVNctT5s0",
        "colab": {
          "base_uri": "https://localhost:8080/"
        },
        "outputId": "19c23629-41da-45a9-89a4-0ca98c35b6d9"
      },
      "execution_count": 29,
      "outputs": [
        {
          "output_type": "stream",
          "name": "stdout",
          "text": [
            "係数： [3.14642595]\n",
            "係数： [1.96164568 4.11256441]\n"
          ]
        }
      ]
    },
    {
      "cell_type": "code",
      "source": [],
      "metadata": {
        "id": "0U1gNzxwT6B6"
      },
      "execution_count": null,
      "outputs": []
    }
  ]
}